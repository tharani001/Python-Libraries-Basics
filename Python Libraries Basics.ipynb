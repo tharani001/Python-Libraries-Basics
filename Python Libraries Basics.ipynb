{
 "cells": [
  {
   "cell_type": "markdown",
   "id": "864a5242-2724-4c3b-ae95-5a1c9418dd99",
   "metadata": {},
   "source": [
    "# Numpy"
   ]
  },
  {
   "cell_type": "markdown",
   "id": "1625f12d-805b-4e05-bd8f-b86124be48e4",
   "metadata": {},
   "source": [
    "Numpy is better than Python Lists and Tuples because there are several operations that can be performed on Numpy arrays and it takes less processing time"
   ]
  },
  {
   "cell_type": "code",
   "execution_count": 14,
   "id": "51fa71b4-69e1-4055-9ea4-ee0d98fa4864",
   "metadata": {},
   "outputs": [],
   "source": [
    "import numpy as np"
   ]
  },
  {
   "cell_type": "markdown",
   "id": "e73dfb39-bac1-4f86-b807-2822dc818e43",
   "metadata": {},
   "source": [
    "List"
   ]
  },
  {
   "cell_type": "code",
   "execution_count": 15,
   "id": "9729d4e8-d857-436d-818f-a15764e79c22",
   "metadata": {},
   "outputs": [
    {
     "name": "stdout",
     "output_type": "stream",
     "text": [
      "Elapsed time: 0.921875\n"
     ]
    }
   ],
   "source": [
    "import time\n",
    "\n",
    "my_list = [i for i in range(10_000_000)]\n",
    "start_time = time.process_time()  # Correctly calling process_time() from the time module\n",
    "my_list = [i+5 for i in my_list]\n",
    "end_time = time.process_time()  # Correctly calling process_time() from the time module\n",
    "\n",
    "print(\"Elapsed time:\", end_time - start_time)\n"
   ]
  },
  {
   "cell_type": "markdown",
   "id": "3e131801-978d-46de-ae07-386f8ca15f0b",
   "metadata": {},
   "source": [
    "# Numpy Array"
   ]
  },
  {
   "cell_type": "markdown",
   "id": "35f73508-7f4c-410e-b2aa-a231ac773875",
   "metadata": {},
   "source": [
    "### Numpy arrays can only contain elements of the same data type. This allows for more efficient storage and operations.\n",
    "\n",
    "### Numpy arrays are designed for numerical computation and support vectorized operations, which means that operations can be applied to entire arrays without the need for explicit looping. "
   ]
  },
  {
   "cell_type": "code",
   "execution_count": 16,
   "id": "f44524e4-3ae8-4b43-b91d-065eb2995f95",
   "metadata": {},
   "outputs": [
    {
     "name": "stdout",
     "output_type": "stream",
     "text": [
      "Elapsed time: 0.0\n"
     ]
    }
   ],
   "source": [
    "\n",
    "np_array = np.array([i for i in range(10_000_000)])  # Corrected: generator expression is now enclosed in square brackets\n",
    "start_time = time.process_time()  \n",
    "np_array += 5  # Perform the mathematical operation on the NumPy array\n",
    "end_time = time.process_time()\n",
    "\n",
    "print(\"Elapsed time:\", end_time - start_time)\n"
   ]
  },
  {
   "cell_type": "code",
   "execution_count": 17,
   "id": "f53168b1-2ee1-49c8-bad0-2dc739eea69e",
   "metadata": {},
   "outputs": [
    {
     "name": "stdout",
     "output_type": "stream",
     "text": [
      "[1, 2, 3, 4, 5] <class 'list'>\n"
     ]
    }
   ],
   "source": [
    "list1=[1,2,3,4,5]\n",
    "print(list1,type(list1))"
   ]
  },
  {
   "cell_type": "code",
   "execution_count": 18,
   "id": "099c6a24-d9ba-4234-89d0-71fe3e3c95e0",
   "metadata": {},
   "outputs": [
    {
     "name": "stdout",
     "output_type": "stream",
     "text": [
      "[1 2 3 4 5] <class 'numpy.ndarray'>\n"
     ]
    }
   ],
   "source": [
    "n1=np.array([1,2,3,4,5])\n",
    "print(n1, type(n1))"
   ]
  },
  {
   "cell_type": "markdown",
   "id": "c2735f47-7126-4222-998a-b13f3921c1a2",
   "metadata": {},
   "source": [
    "## In Numpy Array, the elements are not separated by comma whereas it is the opposite in Lists"
   ]
  },
  {
   "cell_type": "markdown",
   "id": "d6914723-52ab-4fd3-b0e7-2fe52cd29d4f",
   "metadata": {},
   "source": [
    "# 2D Array"
   ]
  },
  {
   "cell_type": "code",
   "execution_count": 19,
   "id": "332ba57e-3242-4ae6-b4ce-1acaa581c997",
   "metadata": {},
   "outputs": [
    {
     "name": "stdout",
     "output_type": "stream",
     "text": [
      "[[1 2 3]\n",
      " [4 5 6]] \n",
      " <class 'numpy.ndarray'>\n"
     ]
    }
   ],
   "source": [
    "two_dim=np.array([(1,2,3),(4,5,6)])\n",
    "print(two_dim,\"\\n\",type(two_dim))"
   ]
  },
  {
   "cell_type": "code",
   "execution_count": 20,
   "id": "2a11c522-49f4-4a0e-902c-bab6266a4266",
   "metadata": {},
   "outputs": [
    {
     "data": {
      "text/plain": [
       "(2, 3)"
      ]
     },
     "execution_count": 20,
     "metadata": {},
     "output_type": "execute_result"
    }
   ],
   "source": [
    "two_dim.shape"
   ]
  },
  {
   "cell_type": "markdown",
   "id": "aee71e18-813b-4295-8fb2-5633a0a3879a",
   "metadata": {},
   "source": [
    "### Typecasting"
   ]
  },
  {
   "cell_type": "code",
   "execution_count": 21,
   "id": "22a429e2-3ba4-4f7b-8b63-4e6ca38c8a71",
   "metadata": {},
   "outputs": [
    {
     "name": "stdout",
     "output_type": "stream",
     "text": [
      "[[1. 2. 3.]\n",
      " [4. 5. 6.]]\n"
     ]
    }
   ],
   "source": [
    "n2=np.array([(1,2,3),(4,5,6)],dtype=float)\n",
    "print(n2)"
   ]
  },
  {
   "cell_type": "markdown",
   "id": "ad94fd92-e53b-40f9-b654-688529678dbc",
   "metadata": {},
   "source": [
    "### Initial Placeholders"
   ]
  },
  {
   "cell_type": "code",
   "execution_count": 22,
   "id": "4831392f-57db-4e22-b1e0-63d7703eaf54",
   "metadata": {},
   "outputs": [
    {
     "name": "stdout",
     "output_type": "stream",
     "text": [
      "[[0. 0. 0.]\n",
      " [0. 0. 0.]]\n"
     ]
    }
   ],
   "source": [
    "# Create a numpy array of Zeros\n",
    "x1=np.zeros((2,3))\n",
    "print(x1)"
   ]
  },
  {
   "cell_type": "code",
   "execution_count": 23,
   "id": "3afba079-63fd-4120-b39a-a8b03034da5b",
   "metadata": {},
   "outputs": [
    {
     "name": "stdout",
     "output_type": "stream",
     "text": [
      "[[1. 1. 1.]\n",
      " [1. 1. 1.]]\n"
     ]
    }
   ],
   "source": [
    "# Create a numpy array of Ones\n",
    "x2=np.ones((2,3))\n",
    "print(x2)"
   ]
  },
  {
   "cell_type": "code",
   "execution_count": 24,
   "id": "256fc7ad-ae57-4d6f-8fac-682536a15b6a",
   "metadata": {},
   "outputs": [
    {
     "name": "stdout",
     "output_type": "stream",
     "text": [
      "[[2 2 2 2]\n",
      " [2 2 2 2]\n",
      " [2 2 2 2]\n",
      " [2 2 2 2]\n",
      " [2 2 2 2]]\n"
     ]
    }
   ],
   "source": [
    "x3=np.full((5,4),2)\n",
    "print(x3)"
   ]
  },
  {
   "cell_type": "code",
   "execution_count": 25,
   "id": "77d46437-d957-43ce-80be-f31825c4b86f",
   "metadata": {},
   "outputs": [
    {
     "name": "stdout",
     "output_type": "stream",
     "text": [
      "[[1. 0. 0.]\n",
      " [0. 1. 0.]\n",
      " [0. 0. 1.]]\n"
     ]
    }
   ],
   "source": [
    "x4=np.eye(3)\n",
    "print(x4)"
   ]
  },
  {
   "cell_type": "markdown",
   "id": "08beb517-08bd-4129-a189-27ce7cf393d5",
   "metadata": {},
   "source": [
    "## Numpy array with random values"
   ]
  },
  {
   "cell_type": "code",
   "execution_count": 26,
   "id": "0ff99cc4-db54-46db-88d1-049500bfa3f5",
   "metadata": {},
   "outputs": [
    {
     "name": "stdout",
     "output_type": "stream",
     "text": [
      "[[0.53839725 0.90083403 0.42256213 0.67141215]\n",
      " [0.15188004 0.77317339 0.85016309 0.73954467]]\n"
     ]
    }
   ],
   "source": [
    "ran_array=np.random.random((2,4))\n",
    "print(ran_array)"
   ]
  },
  {
   "cell_type": "markdown",
   "id": "8ec0546b-9870-49c5-94d5-2aae83584d15",
   "metadata": {},
   "source": [
    "### It creates an array with values between 0 and 1"
   ]
  },
  {
   "cell_type": "code",
   "execution_count": 27,
   "id": "95ac20ba-ce7d-4278-92dd-51dad6083a26",
   "metadata": {},
   "outputs": [
    {
     "name": "stdout",
     "output_type": "stream",
     "text": [
      "[[87 65 76 14]\n",
      " [34 17 74 45]\n",
      " [21 94 91 78]]\n"
     ]
    }
   ],
   "source": [
    "rand_int=np.random.randint(10,100,(3,4))\n",
    "print(rand_int)"
   ]
  },
  {
   "cell_type": "markdown",
   "id": "e4e253c3-7bcc-4957-a837-f09b7ea23592",
   "metadata": {},
   "source": [
    "#### Randint requires you to enter the range first and then the shape"
   ]
  },
  {
   "cell_type": "markdown",
   "id": "e3d98695-152e-4487-975b-7c0ba4ee6f6d",
   "metadata": {},
   "source": [
    "# Array of Evenly spaced values --- specifying the number of values"
   ]
  },
  {
   "cell_type": "code",
   "execution_count": 28,
   "id": "92005566-7674-4e13-bbe0-a44d0b7dff8d",
   "metadata": {},
   "outputs": [
    {
     "name": "stdout",
     "output_type": "stream",
     "text": [
      "[ 100.  250.  400.  550.  700.  850. 1000.]\n"
     ]
    }
   ],
   "source": [
    "c=np.linspace(100,1000,7)\n",
    "print(c)"
   ]
  },
  {
   "cell_type": "markdown",
   "id": "9ad64701-83d2-4dc7-bcc7-7ab439660780",
   "metadata": {},
   "source": [
    "# Array of Evenly spaced values --- specifying the step"
   ]
  },
  {
   "cell_type": "code",
   "execution_count": 29,
   "id": "072c2728-c135-4d33-bf92-f721e498a20a",
   "metadata": {},
   "outputs": [
    {
     "name": "stdout",
     "output_type": "stream",
     "text": [
      "[20 23 26 29 32 35 38 41 44 47]\n"
     ]
    }
   ],
   "source": [
    "d=np.arange(20,50,3)\n",
    "print(d)"
   ]
  },
  {
   "cell_type": "markdown",
   "id": "bdfc405c-2041-4fd2-8190-ae1ac9d219fb",
   "metadata": {},
   "source": [
    "## Convert a list to Numpy array"
   ]
  },
  {
   "cell_type": "code",
   "execution_count": 30,
   "id": "0f4bead3-032d-4726-b6a4-2667736067dc",
   "metadata": {},
   "outputs": [
    {
     "name": "stdout",
     "output_type": "stream",
     "text": [
      "[2 4 6 8]\n"
     ]
    },
    {
     "data": {
      "text/plain": [
       "numpy.ndarray"
      ]
     },
     "execution_count": 30,
     "metadata": {},
     "output_type": "execute_result"
    }
   ],
   "source": [
    "l2=[2,4,6,8]\n",
    "n5=np.asarray(l2)\n",
    "print(n5)\n",
    "type(n5)"
   ]
  },
  {
   "cell_type": "markdown",
   "id": "5080720e-d564-41dc-8b8a-1358dc062073",
   "metadata": {},
   "source": [
    "## Convert a tuple to Numpy array"
   ]
  },
  {
   "cell_type": "code",
   "execution_count": 31,
   "id": "b16623f2-a43b-4a10-973f-cd03ffeb25da",
   "metadata": {},
   "outputs": [
    {
     "name": "stdout",
     "output_type": "stream",
     "text": [
      "[2 4 6 8 9]\n"
     ]
    },
    {
     "data": {
      "text/plain": [
       "numpy.ndarray"
      ]
     },
     "execution_count": 31,
     "metadata": {},
     "output_type": "execute_result"
    }
   ],
   "source": [
    "t1=(2,4,6,8,9)\n",
    "n6=np.asarray(t1)\n",
    "print(n6)\n",
    "type(n6)"
   ]
  },
  {
   "cell_type": "markdown",
   "id": "54c52e71-478c-47d5-b859-8607a7e1a843",
   "metadata": {},
   "source": [
    "## Analysing a Numpy array"
   ]
  },
  {
   "cell_type": "code",
   "execution_count": 32,
   "id": "64f05a93-fa58-4e9a-bb37-16738a05e671",
   "metadata": {},
   "outputs": [
    {
     "name": "stdout",
     "output_type": "stream",
     "text": [
      "[[532 356 527 140]\n",
      " [764 543 760 150]\n",
      " [408 981 248 306]]\n"
     ]
    }
   ],
   "source": [
    "a10=np.random.randint(100,1100,(3,4))\n",
    "print(a10)"
   ]
  },
  {
   "cell_type": "code",
   "execution_count": 33,
   "id": "efe9a4a6-cf50-4378-84ff-70e48b764070",
   "metadata": {},
   "outputs": [
    {
     "name": "stdout",
     "output_type": "stream",
     "text": [
      "(3, 4)\n",
      "--------------------------------------------------\n",
      "12\n",
      "--------------------------------------------------\n",
      "2\n",
      "--------------------------------------------------\n",
      "int32\n"
     ]
    }
   ],
   "source": [
    "print(a10.shape)\n",
    "print(\"-\"*50)\n",
    "print(a10.size)\n",
    "print(\"-\"*50)\n",
    "print(a10.ndim)\n",
    "print(\"-\"*50)\n",
    "print(a10.dtype)"
   ]
  },
  {
   "cell_type": "markdown",
   "id": "07d9f06a-f7d3-4600-9241-24d9eca33423",
   "metadata": {},
   "source": [
    "## Mathematical operations on a np.array"
   ]
  },
  {
   "cell_type": "code",
   "execution_count": 34,
   "id": "e486bb13-b87a-451e-a5a9-a1682d6cd47b",
   "metadata": {},
   "outputs": [
    {
     "name": "stdout",
     "output_type": "stream",
     "text": [
      "[[ 154  999  818  490]\n",
      " [1001 1056  421  253]\n",
      " [ 260  476  476 1003]]\n",
      "[[ 850  551 1010  917]\n",
      " [ 489  692  636  112]\n",
      " [ 136  115 1058 1000]]\n"
     ]
    }
   ],
   "source": [
    "a10=np.random.randint(100,1100,(3,4))\n",
    "a11=np.random.randint(100,1100,(3,4))\n",
    "print(a10)\n",
    "print(a11)"
   ]
  },
  {
   "cell_type": "code",
   "execution_count": 35,
   "id": "05384059-d3f8-4036-8c95-b48ef4af1bbf",
   "metadata": {},
   "outputs": [
    {
     "name": "stdout",
     "output_type": "stream",
     "text": [
      "[[1004 1550 1828 1407]\n",
      " [1490 1748 1057  365]\n",
      " [ 396  591 1534 2003]]\n",
      "[[-696  448 -192 -427]\n",
      " [ 512  364 -215  141]\n",
      " [ 124  361 -582    3]]\n",
      "[[0.18117647 1.81306715 0.80990099 0.53435115]\n",
      " [2.04703476 1.52601156 0.66194969 2.25892857]\n",
      " [1.91176471 4.13913043 0.44990548 1.003     ]]\n",
      "[[ 130900  550449  826180  449330]\n",
      " [ 489489  730752  267756   28336]\n",
      " [  35360   54740  503608 1003000]]\n"
     ]
    }
   ],
   "source": [
    "print(np.add(a10,a11))\n",
    "print(np.subtract(a10,a11))\n",
    "print(np.divide(a10,a11))\n",
    "print(np.multiply(a10,a11))"
   ]
  },
  {
   "cell_type": "markdown",
   "id": "b1a6b68d-7a86-4104-bead-e414cb0fdd08",
   "metadata": {},
   "source": [
    "## Array Manipulation"
   ]
  },
  {
   "cell_type": "code",
   "execution_count": 36,
   "id": "911b8db2-02f0-4750-9173-647842ad8c78",
   "metadata": {},
   "outputs": [
    {
     "name": "stdout",
     "output_type": "stream",
     "text": [
      "[[365 745 429 556]\n",
      " [ 43 545 595 644]]\n"
     ]
    }
   ],
   "source": [
    "x10=np.random.randint(10,1000,(2,4))\n",
    "print(x10)"
   ]
  },
  {
   "cell_type": "code",
   "execution_count": 37,
   "id": "6a4d71d1-93d5-46e8-ab3c-3303b2dde10e",
   "metadata": {},
   "outputs": [
    {
     "name": "stdout",
     "output_type": "stream",
     "text": [
      "[[365 745]\n",
      " [429 556]\n",
      " [ 43 545]\n",
      " [595 644]]\n"
     ]
    }
   ],
   "source": [
    "x11=x10.reshape(4,2)\n",
    "print(x11)"
   ]
  },
  {
   "cell_type": "markdown",
   "id": "1de644b4-17f1-4f2a-af78-584501e246b5",
   "metadata": {},
   "source": [
    "# Pandas"
   ]
  },
  {
   "cell_type": "code",
   "execution_count": 38,
   "id": "28369653-ede7-4e59-baea-b7934d9d2ffc",
   "metadata": {},
   "outputs": [],
   "source": [
    "import pandas as pd"
   ]
  },
  {
   "cell_type": "markdown",
   "id": "47d7f4bb-106c-400d-82ad-567289e2ff8a",
   "metadata": {},
   "source": [
    "it is useful for data processing and analysis"
   ]
  },
  {
   "cell_type": "markdown",
   "id": "6f2663ef-1f90-46ef-9d9c-d93bca5dd519",
   "metadata": {},
   "source": [
    "Pandas dataframe is a two-dimensional tabular data structure with labelled rows and columns"
   ]
  },
  {
   "cell_type": "code",
   "execution_count": 39,
   "id": "486656a8-b277-4fb9-9f94-150081f84750",
   "metadata": {},
   "outputs": [],
   "source": [
    "from sklearn.datasets import fetch_california_housing\n",
    "housing = fetch_california_housing()"
   ]
  },
  {
   "cell_type": "code",
   "execution_count": 40,
   "id": "bf965b33-906c-4acd-94f1-bea56edb9591",
   "metadata": {},
   "outputs": [
    {
     "data": {
      "text/plain": [
       "sklearn.utils._bunch.Bunch"
      ]
     },
     "execution_count": 40,
     "metadata": {},
     "output_type": "execute_result"
    }
   ],
   "source": [
    "type(housing)"
   ]
  },
  {
   "cell_type": "code",
   "execution_count": 41,
   "id": "d92c7d62-e87c-4231-bb27-7eee4ff3ab30",
   "metadata": {},
   "outputs": [
    {
     "name": "stdout",
     "output_type": "stream",
     "text": [
      "{'data': array([[   8.3252    ,   41.        ,    6.98412698, ...,    2.55555556,\n",
      "          37.88      , -122.23      ],\n",
      "       [   8.3014    ,   21.        ,    6.23813708, ...,    2.10984183,\n",
      "          37.86      , -122.22      ],\n",
      "       [   7.2574    ,   52.        ,    8.28813559, ...,    2.80225989,\n",
      "          37.85      , -122.24      ],\n",
      "       ...,\n",
      "       [   1.7       ,   17.        ,    5.20554273, ...,    2.3256351 ,\n",
      "          39.43      , -121.22      ],\n",
      "       [   1.8672    ,   18.        ,    5.32951289, ...,    2.12320917,\n",
      "          39.43      , -121.32      ],\n",
      "       [   2.3886    ,   16.        ,    5.25471698, ...,    2.61698113,\n",
      "          39.37      , -121.24      ]]), 'target': array([4.526, 3.585, 3.521, ..., 0.923, 0.847, 0.894]), 'frame': None, 'target_names': ['MedHouseVal'], 'feature_names': ['MedInc', 'HouseAge', 'AveRooms', 'AveBedrms', 'Population', 'AveOccup', 'Latitude', 'Longitude'], 'DESCR': '.. _california_housing_dataset:\\n\\nCalifornia Housing dataset\\n--------------------------\\n\\n**Data Set Characteristics:**\\n\\n    :Number of Instances: 20640\\n\\n    :Number of Attributes: 8 numeric, predictive attributes and the target\\n\\n    :Attribute Information:\\n        - MedInc        median income in block group\\n        - HouseAge      median house age in block group\\n        - AveRooms      average number of rooms per household\\n        - AveBedrms     average number of bedrooms per household\\n        - Population    block group population\\n        - AveOccup      average number of household members\\n        - Latitude      block group latitude\\n        - Longitude     block group longitude\\n\\n    :Missing Attribute Values: None\\n\\nThis dataset was obtained from the StatLib repository.\\nhttps://www.dcc.fc.up.pt/~ltorgo/Regression/cal_housing.html\\n\\nThe target variable is the median house value for California districts,\\nexpressed in hundreds of thousands of dollars ($100,000).\\n\\nThis dataset was derived from the 1990 U.S. census, using one row per census\\nblock group. A block group is the smallest geographical unit for which the U.S.\\nCensus Bureau publishes sample data (a block group typically has a population\\nof 600 to 3,000 people).\\n\\nA household is a group of people residing within a home. Since the average\\nnumber of rooms and bedrooms in this dataset are provided per household, these\\ncolumns may take surprisingly large values for block groups with few households\\nand many empty houses, such as vacation resorts.\\n\\nIt can be downloaded/loaded using the\\n:func:`sklearn.datasets.fetch_california_housing` function.\\n\\n.. topic:: References\\n\\n    - Pace, R. Kelley and Ronald Barry, Sparse Spatial Autoregressions,\\n      Statistics and Probability Letters, 33 (1997) 291-297\\n'}\n"
     ]
    }
   ],
   "source": [
    "print(housing)"
   ]
  },
  {
   "cell_type": "markdown",
   "id": "1abb61e6-8f6a-4ecb-8bec-211727eb3984",
   "metadata": {},
   "source": [
    "Bunch is a dictionary object which contains lot of data and it has key and values as in dictionary"
   ]
  },
  {
   "cell_type": "code",
   "execution_count": 42,
   "id": "430b3123-5269-4056-9d7a-c4b3600425e2",
   "metadata": {},
   "outputs": [],
   "source": [
    "housing_df=pd.DataFrame(housing.data,columns=housing.feature_names)"
   ]
  },
  {
   "cell_type": "code",
   "execution_count": 43,
   "id": "3fe0da83-ce8a-4af5-b578-b509ca08062c",
   "metadata": {},
   "outputs": [
    {
     "data": {
      "text/html": [
       "<div>\n",
       "<style scoped>\n",
       "    .dataframe tbody tr th:only-of-type {\n",
       "        vertical-align: middle;\n",
       "    }\n",
       "\n",
       "    .dataframe tbody tr th {\n",
       "        vertical-align: top;\n",
       "    }\n",
       "\n",
       "    .dataframe thead th {\n",
       "        text-align: right;\n",
       "    }\n",
       "</style>\n",
       "<table border=\"1\" class=\"dataframe\">\n",
       "  <thead>\n",
       "    <tr style=\"text-align: right;\">\n",
       "      <th></th>\n",
       "      <th>MedInc</th>\n",
       "      <th>HouseAge</th>\n",
       "      <th>AveRooms</th>\n",
       "      <th>AveBedrms</th>\n",
       "      <th>Population</th>\n",
       "      <th>AveOccup</th>\n",
       "      <th>Latitude</th>\n",
       "      <th>Longitude</th>\n",
       "    </tr>\n",
       "  </thead>\n",
       "  <tbody>\n",
       "    <tr>\n",
       "      <th>0</th>\n",
       "      <td>8.3252</td>\n",
       "      <td>41.0</td>\n",
       "      <td>6.984127</td>\n",
       "      <td>1.023810</td>\n",
       "      <td>322.0</td>\n",
       "      <td>2.555556</td>\n",
       "      <td>37.88</td>\n",
       "      <td>-122.23</td>\n",
       "    </tr>\n",
       "    <tr>\n",
       "      <th>1</th>\n",
       "      <td>8.3014</td>\n",
       "      <td>21.0</td>\n",
       "      <td>6.238137</td>\n",
       "      <td>0.971880</td>\n",
       "      <td>2401.0</td>\n",
       "      <td>2.109842</td>\n",
       "      <td>37.86</td>\n",
       "      <td>-122.22</td>\n",
       "    </tr>\n",
       "    <tr>\n",
       "      <th>2</th>\n",
       "      <td>7.2574</td>\n",
       "      <td>52.0</td>\n",
       "      <td>8.288136</td>\n",
       "      <td>1.073446</td>\n",
       "      <td>496.0</td>\n",
       "      <td>2.802260</td>\n",
       "      <td>37.85</td>\n",
       "      <td>-122.24</td>\n",
       "    </tr>\n",
       "    <tr>\n",
       "      <th>3</th>\n",
       "      <td>5.6431</td>\n",
       "      <td>52.0</td>\n",
       "      <td>5.817352</td>\n",
       "      <td>1.073059</td>\n",
       "      <td>558.0</td>\n",
       "      <td>2.547945</td>\n",
       "      <td>37.85</td>\n",
       "      <td>-122.25</td>\n",
       "    </tr>\n",
       "    <tr>\n",
       "      <th>4</th>\n",
       "      <td>3.8462</td>\n",
       "      <td>52.0</td>\n",
       "      <td>6.281853</td>\n",
       "      <td>1.081081</td>\n",
       "      <td>565.0</td>\n",
       "      <td>2.181467</td>\n",
       "      <td>37.85</td>\n",
       "      <td>-122.25</td>\n",
       "    </tr>\n",
       "  </tbody>\n",
       "</table>\n",
       "</div>"
      ],
      "text/plain": [
       "   MedInc  HouseAge  AveRooms  AveBedrms  Population  AveOccup  Latitude  \\\n",
       "0  8.3252      41.0  6.984127   1.023810       322.0  2.555556     37.88   \n",
       "1  8.3014      21.0  6.238137   0.971880      2401.0  2.109842     37.86   \n",
       "2  7.2574      52.0  8.288136   1.073446       496.0  2.802260     37.85   \n",
       "3  5.6431      52.0  5.817352   1.073059       558.0  2.547945     37.85   \n",
       "4  3.8462      52.0  6.281853   1.081081       565.0  2.181467     37.85   \n",
       "\n",
       "   Longitude  \n",
       "0    -122.23  \n",
       "1    -122.22  \n",
       "2    -122.24  \n",
       "3    -122.25  \n",
       "4    -122.25  "
      ]
     },
     "execution_count": 43,
     "metadata": {},
     "output_type": "execute_result"
    }
   ],
   "source": [
    "housing_df.head()"
   ]
  },
  {
   "cell_type": "code",
   "execution_count": 44,
   "id": "7efe45f2-20cb-4d5f-a4f9-3b27f18e8191",
   "metadata": {},
   "outputs": [
    {
     "data": {
      "text/plain": [
       "(20640, 8)"
      ]
     },
     "execution_count": 44,
     "metadata": {},
     "output_type": "execute_result"
    }
   ],
   "source": [
    "housing_df.shape"
   ]
  },
  {
   "cell_type": "code",
   "execution_count": 45,
   "id": "fdfd468b-804f-4b3d-8e2c-d5535fa1005f",
   "metadata": {},
   "outputs": [
    {
     "data": {
      "text/plain": [
       "pandas.core.frame.DataFrame"
      ]
     },
     "execution_count": 45,
     "metadata": {},
     "output_type": "execute_result"
    }
   ],
   "source": [
    "type(housing_df)"
   ]
  },
  {
   "cell_type": "markdown",
   "id": "03d4ebc2-5586-4a2d-891a-f9c8ca91f418",
   "metadata": {},
   "source": [
    "So we have converted the sklearn Bunch to pandas DataFrame"
   ]
  },
  {
   "cell_type": "markdown",
   "id": "e7f93729-a763-40fc-a5ac-084c0c209e61",
   "metadata": {},
   "source": [
    "## Export Pandas DataFrame to csv file"
   ]
  },
  {
   "cell_type": "code",
   "execution_count": 13,
   "id": "205411bb-be9a-47f0-8bde-5036cc58f2a7",
   "metadata": {},
   "outputs": [],
   "source": [
    "housing_df.to_csv(\"data/housing.csv\")"
   ]
  },
  {
   "cell_type": "markdown",
   "id": "057748df-e4e1-4cd5-9f9d-16b10a142182",
   "metadata": {},
   "source": [
    "### Creating a DataFrame with random values"
   ]
  },
  {
   "cell_type": "code",
   "execution_count": 46,
   "id": "5a3a6eb6-093f-4dca-b373-b1d645720abb",
   "metadata": {},
   "outputs": [],
   "source": [
    "rand_df=pd.DataFrame(np.random.rand(20,10))"
   ]
  },
  {
   "cell_type": "code",
   "execution_count": 48,
   "id": "7d61f390-ce15-4f65-a789-4195151cf915",
   "metadata": {},
   "outputs": [
    {
     "data": {
      "text/html": [
       "<div>\n",
       "<style scoped>\n",
       "    .dataframe tbody tr th:only-of-type {\n",
       "        vertical-align: middle;\n",
       "    }\n",
       "\n",
       "    .dataframe tbody tr th {\n",
       "        vertical-align: top;\n",
       "    }\n",
       "\n",
       "    .dataframe thead th {\n",
       "        text-align: right;\n",
       "    }\n",
       "</style>\n",
       "<table border=\"1\" class=\"dataframe\">\n",
       "  <thead>\n",
       "    <tr style=\"text-align: right;\">\n",
       "      <th></th>\n",
       "      <th>0</th>\n",
       "      <th>1</th>\n",
       "      <th>2</th>\n",
       "      <th>3</th>\n",
       "      <th>4</th>\n",
       "      <th>5</th>\n",
       "      <th>6</th>\n",
       "      <th>7</th>\n",
       "      <th>8</th>\n",
       "      <th>9</th>\n",
       "    </tr>\n",
       "  </thead>\n",
       "  <tbody>\n",
       "    <tr>\n",
       "      <th>0</th>\n",
       "      <td>0.236487</td>\n",
       "      <td>0.417017</td>\n",
       "      <td>0.092063</td>\n",
       "      <td>0.882331</td>\n",
       "      <td>0.297460</td>\n",
       "      <td>0.469616</td>\n",
       "      <td>0.126999</td>\n",
       "      <td>0.452283</td>\n",
       "      <td>0.241018</td>\n",
       "      <td>0.443670</td>\n",
       "    </tr>\n",
       "    <tr>\n",
       "      <th>1</th>\n",
       "      <td>0.183204</td>\n",
       "      <td>0.415286</td>\n",
       "      <td>0.346886</td>\n",
       "      <td>0.148761</td>\n",
       "      <td>0.257022</td>\n",
       "      <td>0.667907</td>\n",
       "      <td>0.045383</td>\n",
       "      <td>0.010575</td>\n",
       "      <td>0.642043</td>\n",
       "      <td>0.134125</td>\n",
       "    </tr>\n",
       "    <tr>\n",
       "      <th>2</th>\n",
       "      <td>0.592699</td>\n",
       "      <td>0.703048</td>\n",
       "      <td>0.315509</td>\n",
       "      <td>0.772562</td>\n",
       "      <td>0.987054</td>\n",
       "      <td>0.758118</td>\n",
       "      <td>0.691150</td>\n",
       "      <td>0.112280</td>\n",
       "      <td>0.343968</td>\n",
       "      <td>0.724795</td>\n",
       "    </tr>\n",
       "    <tr>\n",
       "      <th>3</th>\n",
       "      <td>0.423162</td>\n",
       "      <td>0.132648</td>\n",
       "      <td>0.583212</td>\n",
       "      <td>0.180273</td>\n",
       "      <td>0.168998</td>\n",
       "      <td>0.214769</td>\n",
       "      <td>0.737144</td>\n",
       "      <td>0.218557</td>\n",
       "      <td>0.322205</td>\n",
       "      <td>0.565901</td>\n",
       "    </tr>\n",
       "    <tr>\n",
       "      <th>4</th>\n",
       "      <td>0.442514</td>\n",
       "      <td>0.271778</td>\n",
       "      <td>0.342807</td>\n",
       "      <td>0.583071</td>\n",
       "      <td>0.586823</td>\n",
       "      <td>0.884926</td>\n",
       "      <td>0.353719</td>\n",
       "      <td>0.703676</td>\n",
       "      <td>0.443169</td>\n",
       "      <td>0.146743</td>\n",
       "    </tr>\n",
       "  </tbody>\n",
       "</table>\n",
       "</div>"
      ],
      "text/plain": [
       "          0         1         2         3         4         5         6  \\\n",
       "0  0.236487  0.417017  0.092063  0.882331  0.297460  0.469616  0.126999   \n",
       "1  0.183204  0.415286  0.346886  0.148761  0.257022  0.667907  0.045383   \n",
       "2  0.592699  0.703048  0.315509  0.772562  0.987054  0.758118  0.691150   \n",
       "3  0.423162  0.132648  0.583212  0.180273  0.168998  0.214769  0.737144   \n",
       "4  0.442514  0.271778  0.342807  0.583071  0.586823  0.884926  0.353719   \n",
       "\n",
       "          7         8         9  \n",
       "0  0.452283  0.241018  0.443670  \n",
       "1  0.010575  0.642043  0.134125  \n",
       "2  0.112280  0.343968  0.724795  \n",
       "3  0.218557  0.322205  0.565901  \n",
       "4  0.703676  0.443169  0.146743  "
      ]
     },
     "execution_count": 48,
     "metadata": {},
     "output_type": "execute_result"
    }
   ],
   "source": [
    "rand_df.head()"
   ]
  },
  {
   "cell_type": "code",
   "execution_count": 49,
   "id": "52dcd036-649e-40b1-b3a1-755a65c47374",
   "metadata": {},
   "outputs": [
    {
     "data": {
      "text/plain": [
       "(20, 10)"
      ]
     },
     "execution_count": 49,
     "metadata": {},
     "output_type": "execute_result"
    }
   ],
   "source": [
    "rand_df.shape"
   ]
  },
  {
   "cell_type": "code",
   "execution_count": 50,
   "id": "b635d8dd-21d7-4305-a252-db2755d9638a",
   "metadata": {},
   "outputs": [
    {
     "data": {
      "text/plain": [
       "0    float64\n",
       "1    float64\n",
       "2    float64\n",
       "3    float64\n",
       "4    float64\n",
       "5    float64\n",
       "6    float64\n",
       "7    float64\n",
       "8    float64\n",
       "9    float64\n",
       "dtype: object"
      ]
     },
     "execution_count": 50,
     "metadata": {},
     "output_type": "execute_result"
    }
   ],
   "source": [
    "rand_df.dtypes"
   ]
  },
  {
   "cell_type": "code",
   "execution_count": 51,
   "id": "bfd9a69c-3fef-4b72-ab77-8f920fb78b5a",
   "metadata": {},
   "outputs": [
    {
     "data": {
      "text/plain": [
       "2"
      ]
     },
     "execution_count": 51,
     "metadata": {},
     "output_type": "execute_result"
    }
   ],
   "source": [
    "rand_df.ndim"
   ]
  },
  {
   "cell_type": "code",
   "execution_count": 52,
   "id": "1809e7ae-dbbd-4a7d-9e1a-4ce5fec9bd5b",
   "metadata": {},
   "outputs": [
    {
     "data": {
      "text/plain": [
       "0    0.081414\n",
       "1    0.027991\n",
       "2    0.026713\n",
       "3    0.148761\n",
       "4    0.009957\n",
       "5    0.086456\n",
       "6    0.045383\n",
       "7    0.010575\n",
       "8    0.001500\n",
       "9    0.134125\n",
       "dtype: float64"
      ]
     },
     "execution_count": 52,
     "metadata": {},
     "output_type": "execute_result"
    }
   ],
   "source": [
    "rand_df.min()"
   ]
  },
  {
   "cell_type": "code",
   "execution_count": 53,
   "id": "e58cad3c-e2ef-4d69-ae96-1d1c68dfedce",
   "metadata": {},
   "outputs": [
    {
     "name": "stdout",
     "output_type": "stream",
     "text": [
      "<class 'pandas.core.frame.DataFrame'>\n",
      "RangeIndex: 20 entries, 0 to 19\n",
      "Data columns (total 10 columns):\n",
      " #   Column  Non-Null Count  Dtype  \n",
      "---  ------  --------------  -----  \n",
      " 0   0       20 non-null     float64\n",
      " 1   1       20 non-null     float64\n",
      " 2   2       20 non-null     float64\n",
      " 3   3       20 non-null     float64\n",
      " 4   4       20 non-null     float64\n",
      " 5   5       20 non-null     float64\n",
      " 6   6       20 non-null     float64\n",
      " 7   7       20 non-null     float64\n",
      " 8   8       20 non-null     float64\n",
      " 9   9       20 non-null     float64\n",
      "dtypes: float64(10)\n",
      "memory usage: 1.7 KB\n"
     ]
    }
   ],
   "source": [
    "rand_df.info()"
   ]
  },
  {
   "cell_type": "code",
   "execution_count": 54,
   "id": "742dded7-1e61-462d-8d2e-3ca2f5c6c95e",
   "metadata": {},
   "outputs": [
    {
     "data": {
      "text/html": [
       "<div>\n",
       "<style scoped>\n",
       "    .dataframe tbody tr th:only-of-type {\n",
       "        vertical-align: middle;\n",
       "    }\n",
       "\n",
       "    .dataframe tbody tr th {\n",
       "        vertical-align: top;\n",
       "    }\n",
       "\n",
       "    .dataframe thead th {\n",
       "        text-align: right;\n",
       "    }\n",
       "</style>\n",
       "<table border=\"1\" class=\"dataframe\">\n",
       "  <thead>\n",
       "    <tr style=\"text-align: right;\">\n",
       "      <th></th>\n",
       "      <th>0</th>\n",
       "      <th>1</th>\n",
       "      <th>2</th>\n",
       "      <th>3</th>\n",
       "      <th>4</th>\n",
       "      <th>5</th>\n",
       "      <th>6</th>\n",
       "      <th>7</th>\n",
       "      <th>8</th>\n",
       "      <th>9</th>\n",
       "    </tr>\n",
       "  </thead>\n",
       "  <tbody>\n",
       "    <tr>\n",
       "      <th>count</th>\n",
       "      <td>20.000000</td>\n",
       "      <td>20.000000</td>\n",
       "      <td>20.000000</td>\n",
       "      <td>20.000000</td>\n",
       "      <td>20.000000</td>\n",
       "      <td>20.000000</td>\n",
       "      <td>20.000000</td>\n",
       "      <td>20.000000</td>\n",
       "      <td>20.000000</td>\n",
       "      <td>20.000000</td>\n",
       "    </tr>\n",
       "    <tr>\n",
       "      <th>mean</th>\n",
       "      <td>0.371181</td>\n",
       "      <td>0.373792</td>\n",
       "      <td>0.387630</td>\n",
       "      <td>0.492033</td>\n",
       "      <td>0.420167</td>\n",
       "      <td>0.487848</td>\n",
       "      <td>0.515360</td>\n",
       "      <td>0.450387</td>\n",
       "      <td>0.390077</td>\n",
       "      <td>0.483780</td>\n",
       "    </tr>\n",
       "    <tr>\n",
       "      <th>std</th>\n",
       "      <td>0.222410</td>\n",
       "      <td>0.228122</td>\n",
       "      <td>0.249921</td>\n",
       "      <td>0.244742</td>\n",
       "      <td>0.285043</td>\n",
       "      <td>0.264875</td>\n",
       "      <td>0.294399</td>\n",
       "      <td>0.265723</td>\n",
       "      <td>0.257759</td>\n",
       "      <td>0.226053</td>\n",
       "    </tr>\n",
       "    <tr>\n",
       "      <th>min</th>\n",
       "      <td>0.081414</td>\n",
       "      <td>0.027991</td>\n",
       "      <td>0.026713</td>\n",
       "      <td>0.148761</td>\n",
       "      <td>0.009957</td>\n",
       "      <td>0.086456</td>\n",
       "      <td>0.045383</td>\n",
       "      <td>0.010575</td>\n",
       "      <td>0.001500</td>\n",
       "      <td>0.134125</td>\n",
       "    </tr>\n",
       "    <tr>\n",
       "      <th>25%</th>\n",
       "      <td>0.220847</td>\n",
       "      <td>0.207276</td>\n",
       "      <td>0.168986</td>\n",
       "      <td>0.286375</td>\n",
       "      <td>0.236919</td>\n",
       "      <td>0.217453</td>\n",
       "      <td>0.298257</td>\n",
       "      <td>0.297972</td>\n",
       "      <td>0.245981</td>\n",
       "      <td>0.320109</td>\n",
       "    </tr>\n",
       "    <tr>\n",
       "      <th>50%</th>\n",
       "      <td>0.323235</td>\n",
       "      <td>0.398161</td>\n",
       "      <td>0.342628</td>\n",
       "      <td>0.471739</td>\n",
       "      <td>0.375475</td>\n",
       "      <td>0.428570</td>\n",
       "      <td>0.554256</td>\n",
       "      <td>0.438629</td>\n",
       "      <td>0.333087</td>\n",
       "      <td>0.456855</td>\n",
       "    </tr>\n",
       "    <tr>\n",
       "      <th>75%</th>\n",
       "      <td>0.499866</td>\n",
       "      <td>0.532850</td>\n",
       "      <td>0.569775</td>\n",
       "      <td>0.685328</td>\n",
       "      <td>0.560192</td>\n",
       "      <td>0.741739</td>\n",
       "      <td>0.752561</td>\n",
       "      <td>0.627462</td>\n",
       "      <td>0.551065</td>\n",
       "      <td>0.655205</td>\n",
       "    </tr>\n",
       "    <tr>\n",
       "      <th>max</th>\n",
       "      <td>0.950393</td>\n",
       "      <td>0.801208</td>\n",
       "      <td>0.886164</td>\n",
       "      <td>0.882331</td>\n",
       "      <td>0.987054</td>\n",
       "      <td>0.884926</td>\n",
       "      <td>0.929592</td>\n",
       "      <td>0.990539</td>\n",
       "      <td>0.914779</td>\n",
       "      <td>0.889066</td>\n",
       "    </tr>\n",
       "  </tbody>\n",
       "</table>\n",
       "</div>"
      ],
      "text/plain": [
       "               0          1          2          3          4          5  \\\n",
       "count  20.000000  20.000000  20.000000  20.000000  20.000000  20.000000   \n",
       "mean    0.371181   0.373792   0.387630   0.492033   0.420167   0.487848   \n",
       "std     0.222410   0.228122   0.249921   0.244742   0.285043   0.264875   \n",
       "min     0.081414   0.027991   0.026713   0.148761   0.009957   0.086456   \n",
       "25%     0.220847   0.207276   0.168986   0.286375   0.236919   0.217453   \n",
       "50%     0.323235   0.398161   0.342628   0.471739   0.375475   0.428570   \n",
       "75%     0.499866   0.532850   0.569775   0.685328   0.560192   0.741739   \n",
       "max     0.950393   0.801208   0.886164   0.882331   0.987054   0.884926   \n",
       "\n",
       "               6          7          8          9  \n",
       "count  20.000000  20.000000  20.000000  20.000000  \n",
       "mean    0.515360   0.450387   0.390077   0.483780  \n",
       "std     0.294399   0.265723   0.257759   0.226053  \n",
       "min     0.045383   0.010575   0.001500   0.134125  \n",
       "25%     0.298257   0.297972   0.245981   0.320109  \n",
       "50%     0.554256   0.438629   0.333087   0.456855  \n",
       "75%     0.752561   0.627462   0.551065   0.655205  \n",
       "max     0.929592   0.990539   0.914779   0.889066  "
      ]
     },
     "execution_count": 54,
     "metadata": {},
     "output_type": "execute_result"
    }
   ],
   "source": [
    "rand_df.describe()"
   ]
  },
  {
   "cell_type": "code",
   "execution_count": 56,
   "id": "0e600777-6b2b-4251-9720-8f4fcdbd34c5",
   "metadata": {},
   "outputs": [
    {
     "data": {
      "text/plain": [
       "0    0\n",
       "1    0\n",
       "2    0\n",
       "3    0\n",
       "4    0\n",
       "5    0\n",
       "6    0\n",
       "7    0\n",
       "8    0\n",
       "9    0\n",
       "dtype: int64"
      ]
     },
     "execution_count": 56,
     "metadata": {},
     "output_type": "execute_result"
    }
   ],
   "source": [
    "rand_df.isna().sum()"
   ]
  },
  {
   "cell_type": "code",
   "execution_count": 61,
   "id": "f2de6ea3-32ab-406d-9807-24559951ce3a",
   "metadata": {},
   "outputs": [
    {
     "data": {
      "text/plain": [
       "Index(['MedInc', 'HouseAge', 'AveRooms', 'AveBedrms', 'Population', 'AveOccup',\n",
       "       'Latitude', 'Longitude'],\n",
       "      dtype='object')"
      ]
     },
     "execution_count": 61,
     "metadata": {},
     "output_type": "execute_result"
    }
   ],
   "source": [
    "housing_df.columns"
   ]
  },
  {
   "cell_type": "code",
   "execution_count": 62,
   "id": "e0d89dc4-fd6d-45b8-8d72-d48fd977f72c",
   "metadata": {},
   "outputs": [
    {
     "data": {
      "text/plain": [
       "HouseAge\n",
       "52.0    1273\n",
       "36.0     862\n",
       "35.0     824\n",
       "16.0     771\n",
       "17.0     698\n",
       "34.0     689\n",
       "26.0     619\n",
       "33.0     615\n",
       "18.0     570\n",
       "25.0     566\n",
       "32.0     565\n",
       "37.0     537\n",
       "15.0     512\n",
       "19.0     502\n",
       "27.0     488\n",
       "24.0     478\n",
       "30.0     476\n",
       "28.0     471\n",
       "20.0     465\n",
       "29.0     461\n",
       "31.0     458\n",
       "23.0     448\n",
       "21.0     446\n",
       "14.0     412\n",
       "22.0     399\n",
       "38.0     394\n",
       "39.0     369\n",
       "42.0     368\n",
       "44.0     356\n",
       "43.0     353\n",
       "40.0     304\n",
       "13.0     302\n",
       "41.0     296\n",
       "45.0     294\n",
       "10.0     264\n",
       "11.0     254\n",
       "46.0     245\n",
       "5.0      244\n",
       "12.0     238\n",
       "8.0      206\n",
       "9.0      205\n",
       "47.0     198\n",
       "4.0      191\n",
       "48.0     177\n",
       "7.0      175\n",
       "6.0      160\n",
       "50.0     136\n",
       "49.0     134\n",
       "3.0       62\n",
       "2.0       58\n",
       "51.0      48\n",
       "1.0        4\n",
       "Name: count, dtype: int64"
      ]
     },
     "execution_count": 62,
     "metadata": {},
     "output_type": "execute_result"
    }
   ],
   "source": [
    "# Counting the values based on feature names\n",
    "housing_df[\"HouseAge\"].value_counts()"
   ]
  },
  {
   "cell_type": "code",
   "execution_count": 64,
   "id": "bfe567fe-1343-4e40-bc6c-c04c77bbfce0",
   "metadata": {},
   "outputs": [
    {
     "data": {
      "text/html": [
       "<div>\n",
       "<style scoped>\n",
       "    .dataframe tbody tr th:only-of-type {\n",
       "        vertical-align: middle;\n",
       "    }\n",
       "\n",
       "    .dataframe tbody tr th {\n",
       "        vertical-align: top;\n",
       "    }\n",
       "\n",
       "    .dataframe thead th {\n",
       "        text-align: right;\n",
       "    }\n",
       "</style>\n",
       "<table border=\"1\" class=\"dataframe\">\n",
       "  <thead>\n",
       "    <tr style=\"text-align: right;\">\n",
       "      <th></th>\n",
       "      <th>MedInc</th>\n",
       "      <th>AveRooms</th>\n",
       "      <th>AveBedrms</th>\n",
       "      <th>Population</th>\n",
       "      <th>AveOccup</th>\n",
       "      <th>Latitude</th>\n",
       "      <th>Longitude</th>\n",
       "    </tr>\n",
       "    <tr>\n",
       "      <th>HouseAge</th>\n",
       "      <th></th>\n",
       "      <th></th>\n",
       "      <th></th>\n",
       "      <th></th>\n",
       "      <th></th>\n",
       "      <th></th>\n",
       "      <th></th>\n",
       "    </tr>\n",
       "  </thead>\n",
       "  <tbody>\n",
       "    <tr>\n",
       "      <th>1.0</th>\n",
       "      <td>4.003400</td>\n",
       "      <td>9.088091</td>\n",
       "      <td>1.552106</td>\n",
       "      <td>328.500000</td>\n",
       "      <td>3.244088</td>\n",
       "      <td>36.205000</td>\n",
       "      <td>-119.457500</td>\n",
       "    </tr>\n",
       "    <tr>\n",
       "      <th>2.0</th>\n",
       "      <td>5.167766</td>\n",
       "      <td>7.649087</td>\n",
       "      <td>1.273514</td>\n",
       "      <td>2083.051724</td>\n",
       "      <td>2.747802</td>\n",
       "      <td>35.494483</td>\n",
       "      <td>-119.121379</td>\n",
       "    </tr>\n",
       "    <tr>\n",
       "      <th>3.0</th>\n",
       "      <td>5.460258</td>\n",
       "      <td>6.851805</td>\n",
       "      <td>1.192486</td>\n",
       "      <td>3001.774194</td>\n",
       "      <td>2.734708</td>\n",
       "      <td>35.284516</td>\n",
       "      <td>-118.936452</td>\n",
       "    </tr>\n",
       "    <tr>\n",
       "      <th>4.0</th>\n",
       "      <td>5.180673</td>\n",
       "      <td>6.112610</td>\n",
       "      <td>1.116190</td>\n",
       "      <td>2813.162304</td>\n",
       "      <td>2.786138</td>\n",
       "      <td>34.966963</td>\n",
       "      <td>-118.814293</td>\n",
       "    </tr>\n",
       "    <tr>\n",
       "      <th>5.0</th>\n",
       "      <td>4.697636</td>\n",
       "      <td>5.963211</td>\n",
       "      <td>1.128014</td>\n",
       "      <td>2471.381148</td>\n",
       "      <td>3.279108</td>\n",
       "      <td>35.234262</td>\n",
       "      <td>-118.918033</td>\n",
       "    </tr>\n",
       "    <tr>\n",
       "      <th>6.0</th>\n",
       "      <td>4.383393</td>\n",
       "      <td>5.832246</td>\n",
       "      <td>1.105839</td>\n",
       "      <td>2165.637500</td>\n",
       "      <td>2.886158</td>\n",
       "      <td>35.233125</td>\n",
       "      <td>-118.994313</td>\n",
       "    </tr>\n",
       "    <tr>\n",
       "      <th>7.0</th>\n",
       "      <td>4.464457</td>\n",
       "      <td>6.236576</td>\n",
       "      <td>1.145118</td>\n",
       "      <td>2613.080000</td>\n",
       "      <td>2.936948</td>\n",
       "      <td>35.544286</td>\n",
       "      <td>-119.111486</td>\n",
       "    </tr>\n",
       "    <tr>\n",
       "      <th>8.0</th>\n",
       "      <td>4.459338</td>\n",
       "      <td>6.280481</td>\n",
       "      <td>1.175100</td>\n",
       "      <td>2018.354369</td>\n",
       "      <td>3.360742</td>\n",
       "      <td>35.743835</td>\n",
       "      <td>-119.320243</td>\n",
       "    </tr>\n",
       "    <tr>\n",
       "      <th>9.0</th>\n",
       "      <td>4.316425</td>\n",
       "      <td>6.014117</td>\n",
       "      <td>1.144547</td>\n",
       "      <td>1886.975610</td>\n",
       "      <td>2.899606</td>\n",
       "      <td>35.683366</td>\n",
       "      <td>-119.305415</td>\n",
       "    </tr>\n",
       "    <tr>\n",
       "      <th>10.0</th>\n",
       "      <td>4.050508</td>\n",
       "      <td>6.047608</td>\n",
       "      <td>1.195510</td>\n",
       "      <td>1712.924242</td>\n",
       "      <td>2.852738</td>\n",
       "      <td>35.914621</td>\n",
       "      <td>-119.400492</td>\n",
       "    </tr>\n",
       "    <tr>\n",
       "      <th>11.0</th>\n",
       "      <td>3.932593</td>\n",
       "      <td>6.288396</td>\n",
       "      <td>1.245155</td>\n",
       "      <td>1989.905512</td>\n",
       "      <td>2.932461</td>\n",
       "      <td>35.896063</td>\n",
       "      <td>-119.484803</td>\n",
       "    </tr>\n",
       "    <tr>\n",
       "      <th>12.0</th>\n",
       "      <td>3.988412</td>\n",
       "      <td>5.766874</td>\n",
       "      <td>1.122970</td>\n",
       "      <td>2129.613445</td>\n",
       "      <td>2.902287</td>\n",
       "      <td>35.731891</td>\n",
       "      <td>-119.346261</td>\n",
       "    </tr>\n",
       "    <tr>\n",
       "      <th>13.0</th>\n",
       "      <td>4.150874</td>\n",
       "      <td>6.225630</td>\n",
       "      <td>1.199163</td>\n",
       "      <td>1776.347682</td>\n",
       "      <td>2.875146</td>\n",
       "      <td>35.817417</td>\n",
       "      <td>-119.380762</td>\n",
       "    </tr>\n",
       "    <tr>\n",
       "      <th>14.0</th>\n",
       "      <td>4.115541</td>\n",
       "      <td>6.101843</td>\n",
       "      <td>1.175591</td>\n",
       "      <td>1857.140777</td>\n",
       "      <td>2.871762</td>\n",
       "      <td>35.975267</td>\n",
       "      <td>-119.548981</td>\n",
       "    </tr>\n",
       "    <tr>\n",
       "      <th>15.0</th>\n",
       "      <td>4.062305</td>\n",
       "      <td>5.942703</td>\n",
       "      <td>1.142600</td>\n",
       "      <td>1622.308594</td>\n",
       "      <td>2.824927</td>\n",
       "      <td>35.900430</td>\n",
       "      <td>-119.497109</td>\n",
       "    </tr>\n",
       "    <tr>\n",
       "      <th>16.0</th>\n",
       "      <td>4.293998</td>\n",
       "      <td>6.004060</td>\n",
       "      <td>1.131531</td>\n",
       "      <td>1483.556420</td>\n",
       "      <td>2.916834</td>\n",
       "      <td>35.732257</td>\n",
       "      <td>-119.557588</td>\n",
       "    </tr>\n",
       "    <tr>\n",
       "      <th>17.0</th>\n",
       "      <td>3.935827</td>\n",
       "      <td>5.879533</td>\n",
       "      <td>1.168132</td>\n",
       "      <td>1605.848138</td>\n",
       "      <td>2.819008</td>\n",
       "      <td>35.965043</td>\n",
       "      <td>-119.630645</td>\n",
       "    </tr>\n",
       "    <tr>\n",
       "      <th>18.0</th>\n",
       "      <td>3.977344</td>\n",
       "      <td>5.708517</td>\n",
       "      <td>1.124104</td>\n",
       "      <td>1608.664912</td>\n",
       "      <td>2.895784</td>\n",
       "      <td>35.944965</td>\n",
       "      <td>-119.672000</td>\n",
       "    </tr>\n",
       "    <tr>\n",
       "      <th>19.0</th>\n",
       "      <td>3.760389</td>\n",
       "      <td>5.632239</td>\n",
       "      <td>1.138902</td>\n",
       "      <td>1619.286853</td>\n",
       "      <td>2.860078</td>\n",
       "      <td>35.826892</td>\n",
       "      <td>-119.528127</td>\n",
       "    </tr>\n",
       "    <tr>\n",
       "      <th>20.0</th>\n",
       "      <td>3.778618</td>\n",
       "      <td>5.466440</td>\n",
       "      <td>1.112190</td>\n",
       "      <td>1545.584946</td>\n",
       "      <td>2.863815</td>\n",
       "      <td>36.143140</td>\n",
       "      <td>-119.891828</td>\n",
       "    </tr>\n",
       "    <tr>\n",
       "      <th>21.0</th>\n",
       "      <td>3.852120</td>\n",
       "      <td>5.536552</td>\n",
       "      <td>1.110378</td>\n",
       "      <td>1657.793722</td>\n",
       "      <td>2.876149</td>\n",
       "      <td>35.779641</td>\n",
       "      <td>-119.629036</td>\n",
       "    </tr>\n",
       "    <tr>\n",
       "      <th>22.0</th>\n",
       "      <td>3.922650</td>\n",
       "      <td>5.661284</td>\n",
       "      <td>1.130028</td>\n",
       "      <td>1736.686717</td>\n",
       "      <td>2.950788</td>\n",
       "      <td>35.824912</td>\n",
       "      <td>-119.663033</td>\n",
       "    </tr>\n",
       "    <tr>\n",
       "      <th>23.0</th>\n",
       "      <td>3.949525</td>\n",
       "      <td>5.584120</td>\n",
       "      <td>1.113509</td>\n",
       "      <td>1554.285714</td>\n",
       "      <td>2.935799</td>\n",
       "      <td>35.732299</td>\n",
       "      <td>-119.625000</td>\n",
       "    </tr>\n",
       "    <tr>\n",
       "      <th>24.0</th>\n",
       "      <td>3.911442</td>\n",
       "      <td>5.404322</td>\n",
       "      <td>1.090811</td>\n",
       "      <td>1610.000000</td>\n",
       "      <td>2.910523</td>\n",
       "      <td>35.410502</td>\n",
       "      <td>-119.348766</td>\n",
       "    </tr>\n",
       "    <tr>\n",
       "      <th>25.0</th>\n",
       "      <td>4.119936</td>\n",
       "      <td>5.542334</td>\n",
       "      <td>1.102046</td>\n",
       "      <td>1539.491166</td>\n",
       "      <td>2.876420</td>\n",
       "      <td>35.503728</td>\n",
       "      <td>-119.436696</td>\n",
       "    </tr>\n",
       "    <tr>\n",
       "      <th>26.0</th>\n",
       "      <td>4.076914</td>\n",
       "      <td>5.547365</td>\n",
       "      <td>1.072149</td>\n",
       "      <td>1437.591276</td>\n",
       "      <td>3.051294</td>\n",
       "      <td>35.506672</td>\n",
       "      <td>-119.494330</td>\n",
       "    </tr>\n",
       "    <tr>\n",
       "      <th>27.0</th>\n",
       "      <td>3.853651</td>\n",
       "      <td>5.345399</td>\n",
       "      <td>1.101355</td>\n",
       "      <td>1412.657787</td>\n",
       "      <td>2.893323</td>\n",
       "      <td>35.620307</td>\n",
       "      <td>-119.629488</td>\n",
       "    </tr>\n",
       "    <tr>\n",
       "      <th>28.0</th>\n",
       "      <td>3.752313</td>\n",
       "      <td>5.213263</td>\n",
       "      <td>1.086258</td>\n",
       "      <td>1443.577495</td>\n",
       "      <td>2.967666</td>\n",
       "      <td>35.555669</td>\n",
       "      <td>-119.549512</td>\n",
       "    </tr>\n",
       "    <tr>\n",
       "      <th>29.0</th>\n",
       "      <td>3.580305</td>\n",
       "      <td>5.215443</td>\n",
       "      <td>1.088691</td>\n",
       "      <td>1454.225597</td>\n",
       "      <td>2.991591</td>\n",
       "      <td>35.503362</td>\n",
       "      <td>-119.448243</td>\n",
       "    </tr>\n",
       "    <tr>\n",
       "      <th>30.0</th>\n",
       "      <td>3.587635</td>\n",
       "      <td>5.086314</td>\n",
       "      <td>1.082066</td>\n",
       "      <td>1413.836134</td>\n",
       "      <td>3.049689</td>\n",
       "      <td>35.446513</td>\n",
       "      <td>-119.458571</td>\n",
       "    </tr>\n",
       "    <tr>\n",
       "      <th>31.0</th>\n",
       "      <td>3.607926</td>\n",
       "      <td>4.962658</td>\n",
       "      <td>1.059985</td>\n",
       "      <td>1390.796943</td>\n",
       "      <td>3.035894</td>\n",
       "      <td>35.370197</td>\n",
       "      <td>-119.405087</td>\n",
       "    </tr>\n",
       "    <tr>\n",
       "      <th>32.0</th>\n",
       "      <td>3.778895</td>\n",
       "      <td>5.174086</td>\n",
       "      <td>1.060452</td>\n",
       "      <td>1364.886726</td>\n",
       "      <td>3.087233</td>\n",
       "      <td>35.475044</td>\n",
       "      <td>-119.453912</td>\n",
       "    </tr>\n",
       "    <tr>\n",
       "      <th>33.0</th>\n",
       "      <td>3.832625</td>\n",
       "      <td>5.443103</td>\n",
       "      <td>1.101136</td>\n",
       "      <td>1304.369106</td>\n",
       "      <td>3.112717</td>\n",
       "      <td>35.385740</td>\n",
       "      <td>-119.377935</td>\n",
       "    </tr>\n",
       "    <tr>\n",
       "      <th>34.0</th>\n",
       "      <td>3.984903</td>\n",
       "      <td>5.463408</td>\n",
       "      <td>1.099826</td>\n",
       "      <td>1233.134978</td>\n",
       "      <td>3.049085</td>\n",
       "      <td>35.164470</td>\n",
       "      <td>-119.200334</td>\n",
       "    </tr>\n",
       "    <tr>\n",
       "      <th>35.0</th>\n",
       "      <td>3.913107</td>\n",
       "      <td>5.201818</td>\n",
       "      <td>1.039142</td>\n",
       "      <td>1204.427184</td>\n",
       "      <td>3.147272</td>\n",
       "      <td>35.170728</td>\n",
       "      <td>-119.255316</td>\n",
       "    </tr>\n",
       "    <tr>\n",
       "      <th>36.0</th>\n",
       "      <td>3.935958</td>\n",
       "      <td>5.252212</td>\n",
       "      <td>1.042671</td>\n",
       "      <td>1093.349188</td>\n",
       "      <td>3.786374</td>\n",
       "      <td>35.172459</td>\n",
       "      <td>-119.273179</td>\n",
       "    </tr>\n",
       "    <tr>\n",
       "      <th>37.0</th>\n",
       "      <td>3.747540</td>\n",
       "      <td>5.099511</td>\n",
       "      <td>1.054990</td>\n",
       "      <td>1080.089385</td>\n",
       "      <td>3.035523</td>\n",
       "      <td>35.338454</td>\n",
       "      <td>-119.444115</td>\n",
       "    </tr>\n",
       "    <tr>\n",
       "      <th>38.0</th>\n",
       "      <td>3.446261</td>\n",
       "      <td>4.991169</td>\n",
       "      <td>1.065688</td>\n",
       "      <td>1100.913706</td>\n",
       "      <td>3.036302</td>\n",
       "      <td>35.350482</td>\n",
       "      <td>-119.363173</td>\n",
       "    </tr>\n",
       "    <tr>\n",
       "      <th>39.0</th>\n",
       "      <td>3.437686</td>\n",
       "      <td>4.872036</td>\n",
       "      <td>1.053098</td>\n",
       "      <td>1160.252033</td>\n",
       "      <td>3.008323</td>\n",
       "      <td>35.514824</td>\n",
       "      <td>-119.632005</td>\n",
       "    </tr>\n",
       "    <tr>\n",
       "      <th>40.0</th>\n",
       "      <td>3.456350</td>\n",
       "      <td>4.891881</td>\n",
       "      <td>1.053887</td>\n",
       "      <td>1094.674342</td>\n",
       "      <td>2.982353</td>\n",
       "      <td>35.440493</td>\n",
       "      <td>-119.557993</td>\n",
       "    </tr>\n",
       "    <tr>\n",
       "      <th>41.0</th>\n",
       "      <td>3.170057</td>\n",
       "      <td>4.713015</td>\n",
       "      <td>1.053664</td>\n",
       "      <td>1040.043919</td>\n",
       "      <td>3.100736</td>\n",
       "      <td>35.344966</td>\n",
       "      <td>-119.429291</td>\n",
       "    </tr>\n",
       "    <tr>\n",
       "      <th>42.0</th>\n",
       "      <td>3.431315</td>\n",
       "      <td>4.764322</td>\n",
       "      <td>1.043766</td>\n",
       "      <td>1134.913043</td>\n",
       "      <td>3.056921</td>\n",
       "      <td>35.346005</td>\n",
       "      <td>-119.480543</td>\n",
       "    </tr>\n",
       "    <tr>\n",
       "      <th>43.0</th>\n",
       "      <td>3.211136</td>\n",
       "      <td>4.759272</td>\n",
       "      <td>1.049097</td>\n",
       "      <td>1064.963173</td>\n",
       "      <td>2.950987</td>\n",
       "      <td>35.556176</td>\n",
       "      <td>-119.668102</td>\n",
       "    </tr>\n",
       "    <tr>\n",
       "      <th>44.0</th>\n",
       "      <td>3.503119</td>\n",
       "      <td>5.057172</td>\n",
       "      <td>1.067361</td>\n",
       "      <td>1031.109551</td>\n",
       "      <td>2.889532</td>\n",
       "      <td>35.326910</td>\n",
       "      <td>-119.516180</td>\n",
       "    </tr>\n",
       "    <tr>\n",
       "      <th>45.0</th>\n",
       "      <td>3.665441</td>\n",
       "      <td>4.976640</td>\n",
       "      <td>1.037650</td>\n",
       "      <td>1035.323129</td>\n",
       "      <td>7.111575</td>\n",
       "      <td>35.494252</td>\n",
       "      <td>-119.669932</td>\n",
       "    </tr>\n",
       "    <tr>\n",
       "      <th>46.0</th>\n",
       "      <td>3.398138</td>\n",
       "      <td>4.902913</td>\n",
       "      <td>1.046044</td>\n",
       "      <td>1051.808163</td>\n",
       "      <td>4.849529</td>\n",
       "      <td>35.652939</td>\n",
       "      <td>-119.811551</td>\n",
       "    </tr>\n",
       "    <tr>\n",
       "      <th>47.0</th>\n",
       "      <td>3.290915</td>\n",
       "      <td>4.916969</td>\n",
       "      <td>1.062047</td>\n",
       "      <td>1060.015152</td>\n",
       "      <td>2.936009</td>\n",
       "      <td>35.777576</td>\n",
       "      <td>-119.927576</td>\n",
       "    </tr>\n",
       "    <tr>\n",
       "      <th>48.0</th>\n",
       "      <td>3.473160</td>\n",
       "      <td>5.085865</td>\n",
       "      <td>1.067385</td>\n",
       "      <td>970.926554</td>\n",
       "      <td>2.782648</td>\n",
       "      <td>35.715254</td>\n",
       "      <td>-119.816667</td>\n",
       "    </tr>\n",
       "    <tr>\n",
       "      <th>49.0</th>\n",
       "      <td>3.550495</td>\n",
       "      <td>4.966750</td>\n",
       "      <td>1.043057</td>\n",
       "      <td>989.194030</td>\n",
       "      <td>2.721458</td>\n",
       "      <td>36.015075</td>\n",
       "      <td>-120.275672</td>\n",
       "    </tr>\n",
       "    <tr>\n",
       "      <th>50.0</th>\n",
       "      <td>3.444289</td>\n",
       "      <td>4.942963</td>\n",
       "      <td>1.072900</td>\n",
       "      <td>998.977941</td>\n",
       "      <td>2.777761</td>\n",
       "      <td>35.987279</td>\n",
       "      <td>-120.123603</td>\n",
       "    </tr>\n",
       "    <tr>\n",
       "      <th>51.0</th>\n",
       "      <td>3.423648</td>\n",
       "      <td>4.890285</td>\n",
       "      <td>1.045443</td>\n",
       "      <td>941.312500</td>\n",
       "      <td>2.548105</td>\n",
       "      <td>36.359167</td>\n",
       "      <td>-120.489167</td>\n",
       "    </tr>\n",
       "    <tr>\n",
       "      <th>52.0</th>\n",
       "      <td>3.889047</td>\n",
       "      <td>5.100120</td>\n",
       "      <td>1.066982</td>\n",
       "      <td>934.271013</td>\n",
       "      <td>2.840404</td>\n",
       "      <td>36.605161</td>\n",
       "      <td>-120.885915</td>\n",
       "    </tr>\n",
       "  </tbody>\n",
       "</table>\n",
       "</div>"
      ],
      "text/plain": [
       "            MedInc  AveRooms  AveBedrms   Population  AveOccup   Latitude  \\\n",
       "HouseAge                                                                    \n",
       "1.0       4.003400  9.088091   1.552106   328.500000  3.244088  36.205000   \n",
       "2.0       5.167766  7.649087   1.273514  2083.051724  2.747802  35.494483   \n",
       "3.0       5.460258  6.851805   1.192486  3001.774194  2.734708  35.284516   \n",
       "4.0       5.180673  6.112610   1.116190  2813.162304  2.786138  34.966963   \n",
       "5.0       4.697636  5.963211   1.128014  2471.381148  3.279108  35.234262   \n",
       "6.0       4.383393  5.832246   1.105839  2165.637500  2.886158  35.233125   \n",
       "7.0       4.464457  6.236576   1.145118  2613.080000  2.936948  35.544286   \n",
       "8.0       4.459338  6.280481   1.175100  2018.354369  3.360742  35.743835   \n",
       "9.0       4.316425  6.014117   1.144547  1886.975610  2.899606  35.683366   \n",
       "10.0      4.050508  6.047608   1.195510  1712.924242  2.852738  35.914621   \n",
       "11.0      3.932593  6.288396   1.245155  1989.905512  2.932461  35.896063   \n",
       "12.0      3.988412  5.766874   1.122970  2129.613445  2.902287  35.731891   \n",
       "13.0      4.150874  6.225630   1.199163  1776.347682  2.875146  35.817417   \n",
       "14.0      4.115541  6.101843   1.175591  1857.140777  2.871762  35.975267   \n",
       "15.0      4.062305  5.942703   1.142600  1622.308594  2.824927  35.900430   \n",
       "16.0      4.293998  6.004060   1.131531  1483.556420  2.916834  35.732257   \n",
       "17.0      3.935827  5.879533   1.168132  1605.848138  2.819008  35.965043   \n",
       "18.0      3.977344  5.708517   1.124104  1608.664912  2.895784  35.944965   \n",
       "19.0      3.760389  5.632239   1.138902  1619.286853  2.860078  35.826892   \n",
       "20.0      3.778618  5.466440   1.112190  1545.584946  2.863815  36.143140   \n",
       "21.0      3.852120  5.536552   1.110378  1657.793722  2.876149  35.779641   \n",
       "22.0      3.922650  5.661284   1.130028  1736.686717  2.950788  35.824912   \n",
       "23.0      3.949525  5.584120   1.113509  1554.285714  2.935799  35.732299   \n",
       "24.0      3.911442  5.404322   1.090811  1610.000000  2.910523  35.410502   \n",
       "25.0      4.119936  5.542334   1.102046  1539.491166  2.876420  35.503728   \n",
       "26.0      4.076914  5.547365   1.072149  1437.591276  3.051294  35.506672   \n",
       "27.0      3.853651  5.345399   1.101355  1412.657787  2.893323  35.620307   \n",
       "28.0      3.752313  5.213263   1.086258  1443.577495  2.967666  35.555669   \n",
       "29.0      3.580305  5.215443   1.088691  1454.225597  2.991591  35.503362   \n",
       "30.0      3.587635  5.086314   1.082066  1413.836134  3.049689  35.446513   \n",
       "31.0      3.607926  4.962658   1.059985  1390.796943  3.035894  35.370197   \n",
       "32.0      3.778895  5.174086   1.060452  1364.886726  3.087233  35.475044   \n",
       "33.0      3.832625  5.443103   1.101136  1304.369106  3.112717  35.385740   \n",
       "34.0      3.984903  5.463408   1.099826  1233.134978  3.049085  35.164470   \n",
       "35.0      3.913107  5.201818   1.039142  1204.427184  3.147272  35.170728   \n",
       "36.0      3.935958  5.252212   1.042671  1093.349188  3.786374  35.172459   \n",
       "37.0      3.747540  5.099511   1.054990  1080.089385  3.035523  35.338454   \n",
       "38.0      3.446261  4.991169   1.065688  1100.913706  3.036302  35.350482   \n",
       "39.0      3.437686  4.872036   1.053098  1160.252033  3.008323  35.514824   \n",
       "40.0      3.456350  4.891881   1.053887  1094.674342  2.982353  35.440493   \n",
       "41.0      3.170057  4.713015   1.053664  1040.043919  3.100736  35.344966   \n",
       "42.0      3.431315  4.764322   1.043766  1134.913043  3.056921  35.346005   \n",
       "43.0      3.211136  4.759272   1.049097  1064.963173  2.950987  35.556176   \n",
       "44.0      3.503119  5.057172   1.067361  1031.109551  2.889532  35.326910   \n",
       "45.0      3.665441  4.976640   1.037650  1035.323129  7.111575  35.494252   \n",
       "46.0      3.398138  4.902913   1.046044  1051.808163  4.849529  35.652939   \n",
       "47.0      3.290915  4.916969   1.062047  1060.015152  2.936009  35.777576   \n",
       "48.0      3.473160  5.085865   1.067385   970.926554  2.782648  35.715254   \n",
       "49.0      3.550495  4.966750   1.043057   989.194030  2.721458  36.015075   \n",
       "50.0      3.444289  4.942963   1.072900   998.977941  2.777761  35.987279   \n",
       "51.0      3.423648  4.890285   1.045443   941.312500  2.548105  36.359167   \n",
       "52.0      3.889047  5.100120   1.066982   934.271013  2.840404  36.605161   \n",
       "\n",
       "           Longitude  \n",
       "HouseAge              \n",
       "1.0      -119.457500  \n",
       "2.0      -119.121379  \n",
       "3.0      -118.936452  \n",
       "4.0      -118.814293  \n",
       "5.0      -118.918033  \n",
       "6.0      -118.994313  \n",
       "7.0      -119.111486  \n",
       "8.0      -119.320243  \n",
       "9.0      -119.305415  \n",
       "10.0     -119.400492  \n",
       "11.0     -119.484803  \n",
       "12.0     -119.346261  \n",
       "13.0     -119.380762  \n",
       "14.0     -119.548981  \n",
       "15.0     -119.497109  \n",
       "16.0     -119.557588  \n",
       "17.0     -119.630645  \n",
       "18.0     -119.672000  \n",
       "19.0     -119.528127  \n",
       "20.0     -119.891828  \n",
       "21.0     -119.629036  \n",
       "22.0     -119.663033  \n",
       "23.0     -119.625000  \n",
       "24.0     -119.348766  \n",
       "25.0     -119.436696  \n",
       "26.0     -119.494330  \n",
       "27.0     -119.629488  \n",
       "28.0     -119.549512  \n",
       "29.0     -119.448243  \n",
       "30.0     -119.458571  \n",
       "31.0     -119.405087  \n",
       "32.0     -119.453912  \n",
       "33.0     -119.377935  \n",
       "34.0     -119.200334  \n",
       "35.0     -119.255316  \n",
       "36.0     -119.273179  \n",
       "37.0     -119.444115  \n",
       "38.0     -119.363173  \n",
       "39.0     -119.632005  \n",
       "40.0     -119.557993  \n",
       "41.0     -119.429291  \n",
       "42.0     -119.480543  \n",
       "43.0     -119.668102  \n",
       "44.0     -119.516180  \n",
       "45.0     -119.669932  \n",
       "46.0     -119.811551  \n",
       "47.0     -119.927576  \n",
       "48.0     -119.816667  \n",
       "49.0     -120.275672  \n",
       "50.0     -120.123603  \n",
       "51.0     -120.489167  \n",
       "52.0     -120.885915  "
      ]
     },
     "execution_count": 64,
     "metadata": {},
     "output_type": "execute_result"
    }
   ],
   "source": [
    "# group the values based on the mean of a particular feature\n",
    "housing_df.groupby(\"HouseAge\").mean()"
   ]
  },
  {
   "cell_type": "markdown",
   "id": "15c92491-2973-41b1-877a-8b2f0064f944",
   "metadata": {},
   "source": [
    "the mean population of HouseAge=25 is 1540 approximately"
   ]
  },
  {
   "cell_type": "code",
   "execution_count": 65,
   "id": "00439808-7505-4295-8839-412e4f09eb62",
   "metadata": {},
   "outputs": [
    {
     "data": {
      "text/plain": [
       "MedInc        20640\n",
       "HouseAge      20640\n",
       "AveRooms      20640\n",
       "AveBedrms     20640\n",
       "Population    20640\n",
       "AveOccup      20640\n",
       "Latitude      20640\n",
       "Longitude     20640\n",
       "dtype: int64"
      ]
     },
     "execution_count": 65,
     "metadata": {},
     "output_type": "execute_result"
    }
   ],
   "source": [
    "# count the number of values in each column\n",
    "housing_df.count()"
   ]
  },
  {
   "cell_type": "code",
   "execution_count": 71,
   "id": "146d7a1c-f170-406a-878b-70dca527ba06",
   "metadata": {},
   "outputs": [
    {
     "data": {
      "text/plain": [
       "array([41., 21., 52., 42., 50., 40., 49., 48., 51., 43.,  2., 46., 26.,\n",
       "       20., 17., 36., 19., 23., 38., 35., 10., 16., 27., 39., 31., 29.,\n",
       "       22., 37., 28., 34., 32., 47., 44., 30., 18., 45., 33., 24., 15.,\n",
       "       14., 13., 25.,  5., 12.,  6.,  8.,  9.,  7.,  3.,  4., 11.,  1.])"
      ]
     },
     "execution_count": 71,
     "metadata": {},
     "output_type": "execute_result"
    }
   ],
   "source": [
    "# look at the unique values in the given column\n",
    "housing_df[\"HouseAge\"].unique()"
   ]
  },
  {
   "cell_type": "code",
   "execution_count": 75,
   "id": "e917fec5-f55a-48dd-af17-5ba352cac9f2",
   "metadata": {},
   "outputs": [
    {
     "data": {
      "text/plain": [
       "MedInc        12928\n",
       "HouseAge         52\n",
       "AveRooms      19392\n",
       "AveBedrms     14233\n",
       "Population     3888\n",
       "AveOccup      18841\n",
       "Latitude        862\n",
       "Longitude       844\n",
       "dtype: int64"
      ]
     },
     "execution_count": 75,
     "metadata": {},
     "output_type": "execute_result"
    }
   ],
   "source": [
    "# count the number of unique values in each column\n",
    "housing_df.nunique()"
   ]
  },
  {
   "cell_type": "code",
   "execution_count": 76,
   "id": "ae84871a-3f3d-4ae8-b3d5-93c46368fd37",
   "metadata": {},
   "outputs": [
    {
     "data": {
      "text/plain": [
       "MedInc           3.870671\n",
       "HouseAge        28.639486\n",
       "AveRooms         5.429000\n",
       "AveBedrms        1.096675\n",
       "Population    1425.476744\n",
       "AveOccup         3.070655\n",
       "Latitude        35.631861\n",
       "Longitude     -119.569704\n",
       "dtype: float64"
      ]
     },
     "execution_count": 76,
     "metadata": {},
     "output_type": "execute_result"
    }
   ],
   "source": [
    "housing_df.mean()"
   ]
  },
  {
   "cell_type": "code",
   "execution_count": 77,
   "id": "8556b93f-4ca3-452f-b102-7b690487163d",
   "metadata": {},
   "outputs": [
    {
     "data": {
      "text/plain": [
       "MedInc           1.899822\n",
       "HouseAge        12.585558\n",
       "AveRooms         2.474173\n",
       "AveBedrms        0.473911\n",
       "Population    1132.462122\n",
       "AveOccup        10.386050\n",
       "Latitude         2.135952\n",
       "Longitude        2.003532\n",
       "dtype: float64"
      ]
     },
     "execution_count": 77,
     "metadata": {},
     "output_type": "execute_result"
    }
   ],
   "source": [
    "housing_df.std()"
   ]
  },
  {
   "cell_type": "code",
   "execution_count": 78,
   "id": "d17594c4-78d3-45b7-8dbe-618c35de45a6",
   "metadata": {},
   "outputs": [
    {
     "data": {
      "text/plain": [
       "MedInc        3.609323e+00\n",
       "HouseAge      1.583963e+02\n",
       "AveRooms      6.121533e+00\n",
       "AveBedrms     2.245915e-01\n",
       "Population    1.282470e+06\n",
       "AveOccup      1.078700e+02\n",
       "Latitude      4.562293e+00\n",
       "Longitude     4.014139e+00\n",
       "dtype: float64"
      ]
     },
     "execution_count": 78,
     "metadata": {},
     "output_type": "execute_result"
    }
   ],
   "source": [
    "housing_df.var()"
   ]
  },
  {
   "cell_type": "code",
   "execution_count": 82,
   "id": "50910fa3-3209-432f-9e17-666a211d183a",
   "metadata": {},
   "outputs": [
    {
     "data": {
      "text/plain": [
       "MedInc           15.000100\n",
       "HouseAge         52.000000\n",
       "AveRooms        141.909091\n",
       "AveBedrms        34.066667\n",
       "Population    35682.000000\n",
       "AveOccup       1243.333333\n",
       "Latitude         41.950000\n",
       "Longitude      -114.310000\n",
       "dtype: float64"
      ]
     },
     "execution_count": 82,
     "metadata": {},
     "output_type": "execute_result"
    }
   ],
   "source": [
    "housing_df.max()"
   ]
  },
  {
   "cell_type": "code",
   "execution_count": 85,
   "id": "cfdf52ff-7842-4797-b73d-b88f4b305520",
   "metadata": {},
   "outputs": [
    {
     "data": {
      "text/html": [
       "<div>\n",
       "<style scoped>\n",
       "    .dataframe tbody tr th:only-of-type {\n",
       "        vertical-align: middle;\n",
       "    }\n",
       "\n",
       "    .dataframe tbody tr th {\n",
       "        vertical-align: top;\n",
       "    }\n",
       "\n",
       "    .dataframe thead th {\n",
       "        text-align: right;\n",
       "    }\n",
       "</style>\n",
       "<table border=\"1\" class=\"dataframe\">\n",
       "  <thead>\n",
       "    <tr style=\"text-align: right;\">\n",
       "      <th></th>\n",
       "      <th>MedInc</th>\n",
       "      <th>HouseAge</th>\n",
       "      <th>AveRooms</th>\n",
       "      <th>AveBedrms</th>\n",
       "      <th>Population</th>\n",
       "      <th>AveOccup</th>\n",
       "      <th>Latitude</th>\n",
       "      <th>Longitude</th>\n",
       "    </tr>\n",
       "  </thead>\n",
       "  <tbody>\n",
       "    <tr>\n",
       "      <th>0</th>\n",
       "      <td>8.3252</td>\n",
       "      <td>41.0</td>\n",
       "      <td>6.984127</td>\n",
       "      <td>1.023810</td>\n",
       "      <td>322.0</td>\n",
       "      <td>2.555556</td>\n",
       "      <td>37.88</td>\n",
       "      <td>-122.23</td>\n",
       "    </tr>\n",
       "    <tr>\n",
       "      <th>1</th>\n",
       "      <td>8.3014</td>\n",
       "      <td>21.0</td>\n",
       "      <td>6.238137</td>\n",
       "      <td>0.971880</td>\n",
       "      <td>2401.0</td>\n",
       "      <td>2.109842</td>\n",
       "      <td>37.86</td>\n",
       "      <td>-122.22</td>\n",
       "    </tr>\n",
       "    <tr>\n",
       "      <th>2</th>\n",
       "      <td>7.2574</td>\n",
       "      <td>52.0</td>\n",
       "      <td>8.288136</td>\n",
       "      <td>1.073446</td>\n",
       "      <td>496.0</td>\n",
       "      <td>2.802260</td>\n",
       "      <td>37.85</td>\n",
       "      <td>-122.24</td>\n",
       "    </tr>\n",
       "    <tr>\n",
       "      <th>3</th>\n",
       "      <td>5.6431</td>\n",
       "      <td>52.0</td>\n",
       "      <td>5.817352</td>\n",
       "      <td>1.073059</td>\n",
       "      <td>558.0</td>\n",
       "      <td>2.547945</td>\n",
       "      <td>37.85</td>\n",
       "      <td>-122.25</td>\n",
       "    </tr>\n",
       "    <tr>\n",
       "      <th>4</th>\n",
       "      <td>3.8462</td>\n",
       "      <td>52.0</td>\n",
       "      <td>6.281853</td>\n",
       "      <td>1.081081</td>\n",
       "      <td>565.0</td>\n",
       "      <td>2.181467</td>\n",
       "      <td>37.85</td>\n",
       "      <td>-122.25</td>\n",
       "    </tr>\n",
       "    <tr>\n",
       "      <th>5</th>\n",
       "      <td>4.0368</td>\n",
       "      <td>52.0</td>\n",
       "      <td>4.761658</td>\n",
       "      <td>1.103627</td>\n",
       "      <td>413.0</td>\n",
       "      <td>2.139896</td>\n",
       "      <td>37.85</td>\n",
       "      <td>-122.25</td>\n",
       "    </tr>\n",
       "    <tr>\n",
       "      <th>6</th>\n",
       "      <td>3.6591</td>\n",
       "      <td>52.0</td>\n",
       "      <td>4.931907</td>\n",
       "      <td>0.951362</td>\n",
       "      <td>1094.0</td>\n",
       "      <td>2.128405</td>\n",
       "      <td>37.84</td>\n",
       "      <td>-122.25</td>\n",
       "    </tr>\n",
       "    <tr>\n",
       "      <th>7</th>\n",
       "      <td>3.1200</td>\n",
       "      <td>52.0</td>\n",
       "      <td>4.797527</td>\n",
       "      <td>1.061824</td>\n",
       "      <td>1157.0</td>\n",
       "      <td>1.788253</td>\n",
       "      <td>37.84</td>\n",
       "      <td>-122.25</td>\n",
       "    </tr>\n",
       "    <tr>\n",
       "      <th>8</th>\n",
       "      <td>2.0804</td>\n",
       "      <td>42.0</td>\n",
       "      <td>4.294118</td>\n",
       "      <td>1.117647</td>\n",
       "      <td>1206.0</td>\n",
       "      <td>2.026891</td>\n",
       "      <td>37.84</td>\n",
       "      <td>-122.26</td>\n",
       "    </tr>\n",
       "    <tr>\n",
       "      <th>9</th>\n",
       "      <td>3.6912</td>\n",
       "      <td>52.0</td>\n",
       "      <td>4.970588</td>\n",
       "      <td>0.990196</td>\n",
       "      <td>1551.0</td>\n",
       "      <td>2.172269</td>\n",
       "      <td>37.84</td>\n",
       "      <td>-122.25</td>\n",
       "    </tr>\n",
       "  </tbody>\n",
       "</table>\n",
       "</div>"
      ],
      "text/plain": [
       "   MedInc  HouseAge  AveRooms  AveBedrms  Population  AveOccup  Latitude  \\\n",
       "0  8.3252      41.0  6.984127   1.023810       322.0  2.555556     37.88   \n",
       "1  8.3014      21.0  6.238137   0.971880      2401.0  2.109842     37.86   \n",
       "2  7.2574      52.0  8.288136   1.073446       496.0  2.802260     37.85   \n",
       "3  5.6431      52.0  5.817352   1.073059       558.0  2.547945     37.85   \n",
       "4  3.8462      52.0  6.281853   1.081081       565.0  2.181467     37.85   \n",
       "5  4.0368      52.0  4.761658   1.103627       413.0  2.139896     37.85   \n",
       "6  3.6591      52.0  4.931907   0.951362      1094.0  2.128405     37.84   \n",
       "7  3.1200      52.0  4.797527   1.061824      1157.0  1.788253     37.84   \n",
       "8  2.0804      42.0  4.294118   1.117647      1206.0  2.026891     37.84   \n",
       "9  3.6912      52.0  4.970588   0.990196      1551.0  2.172269     37.84   \n",
       "\n",
       "   Longitude  \n",
       "0    -122.23  \n",
       "1    -122.22  \n",
       "2    -122.24  \n",
       "3    -122.25  \n",
       "4    -122.25  \n",
       "5    -122.25  \n",
       "6    -122.25  \n",
       "7    -122.25  \n",
       "8    -122.26  \n",
       "9    -122.25  "
      ]
     },
     "execution_count": 85,
     "metadata": {},
     "output_type": "execute_result"
    }
   ],
   "source": [
    "# locating a row with index\n",
    "housing_df.iloc[:10]"
   ]
  },
  {
   "cell_type": "code",
   "execution_count": 86,
   "id": "bab54b59-3e6c-4165-949a-20d14e90b12d",
   "metadata": {},
   "outputs": [
    {
     "data": {
      "text/plain": [
       "0       -122.23\n",
       "1       -122.22\n",
       "2       -122.24\n",
       "3       -122.25\n",
       "4       -122.25\n",
       "          ...  \n",
       "20635   -121.09\n",
       "20636   -121.21\n",
       "20637   -121.22\n",
       "20638   -121.32\n",
       "20639   -121.24\n",
       "Name: Longitude, Length: 20640, dtype: float64"
      ]
     },
     "execution_count": 86,
     "metadata": {},
     "output_type": "execute_result"
    }
   ],
   "source": [
    "#locating a column using iloc function\n",
    "housing_df.iloc[:,-1] #last column"
   ]
  },
  {
   "cell_type": "markdown",
   "id": "27641047-1ab2-4d03-b90d-05da9fe4b2f5",
   "metadata": {},
   "source": [
    "## Correlation:\n",
    "It is used to find out the relationship between features or different columns\n",
    "1. Positive Correlation\n",
    "2. Negative Correlation"
   ]
  },
  {
   "cell_type": "code",
   "execution_count": 89,
   "id": "3a0b9926-f8c1-4740-9cd7-fd45b8cc7e09",
   "metadata": {},
   "outputs": [
    {
     "data": {
      "text/html": [
       "<div>\n",
       "<style scoped>\n",
       "    .dataframe tbody tr th:only-of-type {\n",
       "        vertical-align: middle;\n",
       "    }\n",
       "\n",
       "    .dataframe tbody tr th {\n",
       "        vertical-align: top;\n",
       "    }\n",
       "\n",
       "    .dataframe thead th {\n",
       "        text-align: right;\n",
       "    }\n",
       "</style>\n",
       "<table border=\"1\" class=\"dataframe\">\n",
       "  <thead>\n",
       "    <tr style=\"text-align: right;\">\n",
       "      <th></th>\n",
       "      <th>MedInc</th>\n",
       "      <th>HouseAge</th>\n",
       "      <th>AveRooms</th>\n",
       "      <th>AveBedrms</th>\n",
       "      <th>Population</th>\n",
       "      <th>AveOccup</th>\n",
       "      <th>Latitude</th>\n",
       "      <th>Longitude</th>\n",
       "    </tr>\n",
       "  </thead>\n",
       "  <tbody>\n",
       "    <tr>\n",
       "      <th>MedInc</th>\n",
       "      <td>1.000000</td>\n",
       "      <td>-0.119034</td>\n",
       "      <td>0.326895</td>\n",
       "      <td>-0.062040</td>\n",
       "      <td>0.004834</td>\n",
       "      <td>0.018766</td>\n",
       "      <td>-0.079809</td>\n",
       "      <td>-0.015176</td>\n",
       "    </tr>\n",
       "    <tr>\n",
       "      <th>HouseAge</th>\n",
       "      <td>-0.119034</td>\n",
       "      <td>1.000000</td>\n",
       "      <td>-0.153277</td>\n",
       "      <td>-0.077747</td>\n",
       "      <td>-0.296244</td>\n",
       "      <td>0.013191</td>\n",
       "      <td>0.011173</td>\n",
       "      <td>-0.108197</td>\n",
       "    </tr>\n",
       "    <tr>\n",
       "      <th>AveRooms</th>\n",
       "      <td>0.326895</td>\n",
       "      <td>-0.153277</td>\n",
       "      <td>1.000000</td>\n",
       "      <td>0.847621</td>\n",
       "      <td>-0.072213</td>\n",
       "      <td>-0.004852</td>\n",
       "      <td>0.106389</td>\n",
       "      <td>-0.027540</td>\n",
       "    </tr>\n",
       "    <tr>\n",
       "      <th>AveBedrms</th>\n",
       "      <td>-0.062040</td>\n",
       "      <td>-0.077747</td>\n",
       "      <td>0.847621</td>\n",
       "      <td>1.000000</td>\n",
       "      <td>-0.066197</td>\n",
       "      <td>-0.006181</td>\n",
       "      <td>0.069721</td>\n",
       "      <td>0.013344</td>\n",
       "    </tr>\n",
       "    <tr>\n",
       "      <th>Population</th>\n",
       "      <td>0.004834</td>\n",
       "      <td>-0.296244</td>\n",
       "      <td>-0.072213</td>\n",
       "      <td>-0.066197</td>\n",
       "      <td>1.000000</td>\n",
       "      <td>0.069863</td>\n",
       "      <td>-0.108785</td>\n",
       "      <td>0.099773</td>\n",
       "    </tr>\n",
       "    <tr>\n",
       "      <th>AveOccup</th>\n",
       "      <td>0.018766</td>\n",
       "      <td>0.013191</td>\n",
       "      <td>-0.004852</td>\n",
       "      <td>-0.006181</td>\n",
       "      <td>0.069863</td>\n",
       "      <td>1.000000</td>\n",
       "      <td>0.002366</td>\n",
       "      <td>0.002476</td>\n",
       "    </tr>\n",
       "    <tr>\n",
       "      <th>Latitude</th>\n",
       "      <td>-0.079809</td>\n",
       "      <td>0.011173</td>\n",
       "      <td>0.106389</td>\n",
       "      <td>0.069721</td>\n",
       "      <td>-0.108785</td>\n",
       "      <td>0.002366</td>\n",
       "      <td>1.000000</td>\n",
       "      <td>-0.924664</td>\n",
       "    </tr>\n",
       "    <tr>\n",
       "      <th>Longitude</th>\n",
       "      <td>-0.015176</td>\n",
       "      <td>-0.108197</td>\n",
       "      <td>-0.027540</td>\n",
       "      <td>0.013344</td>\n",
       "      <td>0.099773</td>\n",
       "      <td>0.002476</td>\n",
       "      <td>-0.924664</td>\n",
       "      <td>1.000000</td>\n",
       "    </tr>\n",
       "  </tbody>\n",
       "</table>\n",
       "</div>"
      ],
      "text/plain": [
       "              MedInc  HouseAge  AveRooms  AveBedrms  Population  AveOccup  \\\n",
       "MedInc      1.000000 -0.119034  0.326895  -0.062040    0.004834  0.018766   \n",
       "HouseAge   -0.119034  1.000000 -0.153277  -0.077747   -0.296244  0.013191   \n",
       "AveRooms    0.326895 -0.153277  1.000000   0.847621   -0.072213 -0.004852   \n",
       "AveBedrms  -0.062040 -0.077747  0.847621   1.000000   -0.066197 -0.006181   \n",
       "Population  0.004834 -0.296244 -0.072213  -0.066197    1.000000  0.069863   \n",
       "AveOccup    0.018766  0.013191 -0.004852  -0.006181    0.069863  1.000000   \n",
       "Latitude   -0.079809  0.011173  0.106389   0.069721   -0.108785  0.002366   \n",
       "Longitude  -0.015176 -0.108197 -0.027540   0.013344    0.099773  0.002476   \n",
       "\n",
       "            Latitude  Longitude  \n",
       "MedInc     -0.079809  -0.015176  \n",
       "HouseAge    0.011173  -0.108197  \n",
       "AveRooms    0.106389  -0.027540  \n",
       "AveBedrms   0.069721   0.013344  \n",
       "Population -0.108785   0.099773  \n",
       "AveOccup    0.002366   0.002476  \n",
       "Latitude    1.000000  -0.924664  \n",
       "Longitude  -0.924664   1.000000  "
      ]
     },
     "execution_count": 89,
     "metadata": {},
     "output_type": "execute_result"
    }
   ],
   "source": [
    "housing_df.corr() # pearson correlation coefficient"
   ]
  },
  {
   "cell_type": "markdown",
   "id": "a23ad18b-fa9e-423b-a7b1-bd6109349c40",
   "metadata": {},
   "source": [
    "## Matplotlib"
   ]
  },
  {
   "cell_type": "code",
   "execution_count": 90,
   "id": "219c8b03-72ac-4080-a76b-349d1d781125",
   "metadata": {},
   "outputs": [],
   "source": [
    "import matplotlib.pyplot as plt"
   ]
  },
  {
   "cell_type": "code",
   "execution_count": 91,
   "id": "13f0b4fb-23c0-4dd5-b512-120819ceb619",
   "metadata": {},
   "outputs": [],
   "source": [
    "x=np.linspace(0,10,100)\n",
    "y=np.sin(x)\n",
    "z=np.cos(x)"
   ]
  },
  {
   "cell_type": "code",
   "execution_count": 93,
   "id": "b569d78f-ffe7-4d07-9a5e-79d19a12d4ba",
   "metadata": {},
   "outputs": [
    {
     "data": {
      "image/png": "[encoded data removed]",
      "text/plain": [
       "<Figure size 640x480 with 1 Axes>"
      ]
     },
     "metadata": {},
     "output_type": "display_data"
    }
   ],
   "source": [
    "#sine wave\n",
    "plt.plot(x,y)\n",
    "plt.show()"
   ]
  },
  {
   "cell_type": "code",
   "execution_count": 94,
   "id": "21e8b849-91a1-4518-8760-4e9d634de7e0",
   "metadata": {},
   "outputs": [
    {
     "data": {
      "image/png": "[encoded data removed]",
      "text/plain": [
       "<Figure size 640x480 with 1 Axes>"
      ]
     },
     "metadata": {},
     "output_type": "display_data"
    }
   ],
   "source": [
    "#cosine wave\n",
    "plt.plot(x,z)\n",
    "plt.show()"
   ]
  },
  {
   "cell_type": "code",
   "execution_count": 95,
   "id": "be3308c9-9ce9-4ab1-af70-bb158c9a70b6",
   "metadata": {},
   "outputs": [
    {
     "data": {
      "image/png": "[encoded data removed]",
      "text/plain": [
       "<Figure size 640x480 with 1 Axes>"
      ]
     },
     "metadata": {},
     "output_type": "display_data"
    }
   ],
   "source": [
    "# adding x axis and y axis labels\n",
    "plt.plot(x,y)\n",
    "plt.xlabel(\"Angle\")\n",
    "plt.ylabel(\"sin\")\n",
    "plt.title(\"Sine Wave\")\n",
    "plt.show()"
   ]
  },
  {
   "cell_type": "code",
   "execution_count": 97,
   "id": "51d2bc51-2dc7-4479-8c46-add23ef543e3",
   "metadata": {},
   "outputs": [
    {
     "data": {
      "image/png": "[encoded data removed]",
      "text/plain": [
       "<Figure size 640x480 with 1 Axes>"
      ]
     },
     "metadata": {},
     "output_type": "display_data"
    }
   ],
   "source": [
    "x=np.linspace(-10,10,20)\n",
    "y=x**2\n",
    "plt.plot(x,y,\"r+\")\n",
    "plt.show()"
   ]
  },
  {
   "cell_type": "code",
   "execution_count": 98,
   "id": "708bb16f-e82e-4a17-bea2-e2ae55150daa",
   "metadata": {},
   "outputs": [
    {
     "data": {
      "image/png": "[encoded data removed]",
      "text/plain": [
       "<Figure size 640x480 with 1 Axes>"
      ]
     },
     "metadata": {},
     "output_type": "display_data"
    }
   ],
   "source": [
    "x=np.linspace(-10,10,20)\n",
    "y=x**2\n",
    "plt.plot(x,y,\"g.\")\n",
    "plt.show()"
   ]
  },
  {
   "cell_type": "code",
   "execution_count": 99,
   "id": "c9ee0fae-1f68-4924-b5b7-0defd6532e20",
   "metadata": {},
   "outputs": [
    {
     "data": {
      "image/png": "[encoded data removed]",
      "text/plain": [
       "<Figure size 640x480 with 1 Axes>"
      ]
     },
     "metadata": {},
     "output_type": "display_data"
    }
   ],
   "source": [
    "x=np.linspace(-10,10,20)\n",
    "y=x**2\n",
    "plt.plot(x,y,\"rx\")\n",
    "plt.show()"
   ]
  },
  {
   "cell_type": "code",
   "execution_count": 100,
   "id": "3c529ff9-d341-48d1-b87a-c5e313967fec",
   "metadata": {},
   "outputs": [
    {
     "data": {
      "image/png": "[encoded data removed]",
      "text/plain": [
       "<Figure size 640x480 with 1 Axes>"
      ]
     },
     "metadata": {},
     "output_type": "display_data"
    }
   ],
   "source": [
    "x=np.linspace(-5,5,50)\n",
    "plt.plot(x,np.sin(x),\"g-\")\n",
    "plt.plot(x,np.cos(x),\"r--\")\n",
    "plt.show()"
   ]
  },
  {
   "cell_type": "markdown",
   "id": "b7ee606b-87a8-4c95-afae-0bbfe305d2b0",
   "metadata": {},
   "source": [
    "### Bar Plot"
   ]
  },
  {
   "cell_type": "code",
   "execution_count": 103,
   "id": "2fc975d9-3078-43e0-8f17-5b939203f062",
   "metadata": {},
   "outputs": [
    {
     "data": {
      "image/png": "[encoded data removed]",
      "text/plain": [
       "<Figure size 640x480 with 1 Axes>"
      ]
     },
     "metadata": {},
     "output_type": "display_data"
    }
   ],
   "source": [
    "fig = plt.figure()\n",
    "ax = fig.add_axes([0,0,1,1])\n",
    "languages = [\"English\",\"French\",\"Spanish\",\"Latin\",\"German\"]\n",
    "people = [100,50,20,10,200]\n",
    "ax.bar(languages,people)\n",
    "plt.xlabel(\"languages\")\n",
    "plt.ylabel(\"Number of People\")\n",
    "plt.show()"
   ]
  },
  {
   "cell_type": "markdown",
   "id": "ac615e88-7469-459d-a3b1-2f04f0b3cb52",
   "metadata": {},
   "source": [
    "# Pie Chart"
   ]
  },
  {
   "cell_type": "code",
   "execution_count": 105,
   "id": "fb087848-aa82-427d-9b20-e58a006d498b",
   "metadata": {},
   "outputs": [
    {
     "data": {
      "image/png": "[encoded data removed]",
      "text/plain": [
       "<Figure size 640x480 with 1 Axes>"
      ]
     },
     "metadata": {},
     "output_type": "display_data"
    }
   ],
   "source": [
    "fig1=plt.figure()\n",
    "ax=fig1.add_axes([0,0,1,1])\n",
    "ax.pie(people,labels=languages,autopct=\"%1.1f%%\")\n",
    "plt.show()"
   ]
  },
  {
   "cell_type": "markdown",
   "id": "f10f8121-c1e4-426b-843b-fad4bd5e5ecb",
   "metadata": {},
   "source": [
    "# Scatter Plot"
   ]
  },
  {
   "cell_type": "code",
   "execution_count": 110,
   "id": "537f64a4-7193-462b-af8f-00cd4fdea26d",
   "metadata": {},
   "outputs": [
    {
     "data": {
      "image/png": "[encoded data removed]",
      "text/plain": [
       "<Figure size 640x480 with 1 Axes>"
      ]
     },
     "metadata": {},
     "output_type": "display_data"
    }
   ],
   "source": [
    "x=np.linspace(0,10,30)\n",
    "y=np.sin(x)\n",
    "z=np.cos(x)\n",
    "fig2=plt.figure()\n",
    "ax=fig2.add_axes([0,0,1,1])\n",
    "ax.scatter(x,y,color=\"r\")\n",
    "ax.scatter(x,z,color=\"b\")\n",
    "plt.show()"
   ]
  },
  {
   "cell_type": "markdown",
   "id": "38de149b-b335-4af2-a276-dd863d30f8fc",
   "metadata": {},
   "source": [
    "# Seaborn"
   ]
  },
  {
   "cell_type": "code",
   "execution_count": 111,
   "id": "9d62caff-44ea-4b13-b193-619fffb465ed",
   "metadata": {},
   "outputs": [],
   "source": [
    "import seaborn as sns"
   ]
  },
  {
   "cell_type": "markdown",
   "id": "03b13d4b-4992-46ae-ab0e-5d6edfc954e7",
   "metadata": {},
   "source": [
    "seaborn has some built-in datasets"
   ]
  },
  {
   "cell_type": "code",
   "execution_count": 112,
   "id": "64c26415-9d6d-4f52-bef9-35442ac7419b",
   "metadata": {},
   "outputs": [],
   "source": [
    "tips=sns.load_dataset(\"tips\")"
   ]
  },
  {
   "cell_type": "code",
   "execution_count": 113,
   "id": "3a3eac01-df04-44f0-bd60-6616f7a0f6cc",
   "metadata": {},
   "outputs": [
    {
     "data": {
      "text/html": [
       "<div>\n",
       "<style scoped>\n",
       "    .dataframe tbody tr th:only-of-type {\n",
       "        vertical-align: middle;\n",
       "    }\n",
       "\n",
       "    .dataframe tbody tr th {\n",
       "        vertical-align: top;\n",
       "    }\n",
       "\n",
       "    .dataframe thead th {\n",
       "        text-align: right;\n",
       "    }\n",
       "</style>\n",
       "<table border=\"1\" class=\"dataframe\">\n",
       "  <thead>\n",
       "    <tr style=\"text-align: right;\">\n",
       "      <th></th>\n",
       "      <th>total_bill</th>\n",
       "      <th>tip</th>\n",
       "      <th>sex</th>\n",
       "      <th>smoker</th>\n",
       "      <th>day</th>\n",
       "      <th>time</th>\n",
       "      <th>size</th>\n",
       "    </tr>\n",
       "  </thead>\n",
       "  <tbody>\n",
       "    <tr>\n",
       "      <th>0</th>\n",
       "      <td>16.99</td>\n",
       "      <td>1.01</td>\n",
       "      <td>Female</td>\n",
       "      <td>No</td>\n",
       "      <td>Sun</td>\n",
       "      <td>Dinner</td>\n",
       "      <td>2</td>\n",
       "    </tr>\n",
       "    <tr>\n",
       "      <th>1</th>\n",
       "      <td>10.34</td>\n",
       "      <td>1.66</td>\n",
       "      <td>Male</td>\n",
       "      <td>No</td>\n",
       "      <td>Sun</td>\n",
       "      <td>Dinner</td>\n",
       "      <td>3</td>\n",
       "    </tr>\n",
       "    <tr>\n",
       "      <th>2</th>\n",
       "      <td>21.01</td>\n",
       "      <td>3.50</td>\n",
       "      <td>Male</td>\n",
       "      <td>No</td>\n",
       "      <td>Sun</td>\n",
       "      <td>Dinner</td>\n",
       "      <td>3</td>\n",
       "    </tr>\n",
       "    <tr>\n",
       "      <th>3</th>\n",
       "      <td>23.68</td>\n",
       "      <td>3.31</td>\n",
       "      <td>Male</td>\n",
       "      <td>No</td>\n",
       "      <td>Sun</td>\n",
       "      <td>Dinner</td>\n",
       "      <td>2</td>\n",
       "    </tr>\n",
       "    <tr>\n",
       "      <th>4</th>\n",
       "      <td>24.59</td>\n",
       "      <td>3.61</td>\n",
       "      <td>Female</td>\n",
       "      <td>No</td>\n",
       "      <td>Sun</td>\n",
       "      <td>Dinner</td>\n",
       "      <td>4</td>\n",
       "    </tr>\n",
       "  </tbody>\n",
       "</table>\n",
       "</div>"
      ],
      "text/plain": [
       "   total_bill   tip     sex smoker  day    time  size\n",
       "0       16.99  1.01  Female     No  Sun  Dinner     2\n",
       "1       10.34  1.66    Male     No  Sun  Dinner     3\n",
       "2       21.01  3.50    Male     No  Sun  Dinner     3\n",
       "3       23.68  3.31    Male     No  Sun  Dinner     2\n",
       "4       24.59  3.61  Female     No  Sun  Dinner     4"
      ]
     },
     "execution_count": 113,
     "metadata": {},
     "output_type": "execute_result"
    }
   ],
   "source": [
    "tips.head()"
   ]
  },
  {
   "cell_type": "code",
   "execution_count": 116,
   "id": "d3c93470-26e1-4618-950c-02254d5aacdd",
   "metadata": {},
   "outputs": [],
   "source": [
    "sns.set_theme()"
   ]
  },
  {
   "cell_type": "code",
   "execution_count": 117,
   "id": "0868d233-8854-406d-b5a5-f26111706e0e",
   "metadata": {},
   "outputs": [
    {
     "data": {
      "text/plain": [
       "<seaborn.axisgrid.FacetGrid at 0x22505b8ad10>"
      ]
     },
     "execution_count": 117,
     "metadata": {},
     "output_type": "execute_result"
    },
    {
     "data": {
      "image/png": "[encoded data removed]",
      "text/plain": [
       "<Figure size 1080x500 with 2 Axes>"
      ]
     },
     "metadata": {},
     "output_type": "display_data"
    }
   ],
   "source": [
    "sns.relplot(data=tips,x=\"total_bill\",y=\"tip\",col=\"time\",hue=\"smoker\",style=\"smoker\",size=\"size\")"
   ]
  },
  {
   "cell_type": "code",
   "execution_count": 118,
   "id": "77ea8e0b-6630-4b8c-b9c2-a96c19c3d62b",
   "metadata": {},
   "outputs": [],
   "source": [
    "iris=sns.load_dataset(\"iris\")"
   ]
  },
  {
   "cell_type": "code",
   "execution_count": 119,
   "id": "13b3d308-6ded-43bc-9659-1c70f105b485",
   "metadata": {},
   "outputs": [
    {
     "data": {
      "text/html": [
       "<div>\n",
       "<style scoped>\n",
       "    .dataframe tbody tr th:only-of-type {\n",
       "        vertical-align: middle;\n",
       "    }\n",
       "\n",
       "    .dataframe tbody tr th {\n",
       "        vertical-align: top;\n",
       "    }\n",
       "\n",
       "    .dataframe thead th {\n",
       "        text-align: right;\n",
       "    }\n",
       "</style>\n",
       "<table border=\"1\" class=\"dataframe\">\n",
       "  <thead>\n",
       "    <tr style=\"text-align: right;\">\n",
       "      <th></th>\n",
       "      <th>sepal_length</th>\n",
       "      <th>sepal_width</th>\n",
       "      <th>petal_length</th>\n",
       "      <th>petal_width</th>\n",
       "      <th>species</th>\n",
       "    </tr>\n",
       "  </thead>\n",
       "  <tbody>\n",
       "    <tr>\n",
       "      <th>0</th>\n",
       "      <td>5.1</td>\n",
       "      <td>3.5</td>\n",
       "      <td>1.4</td>\n",
       "      <td>0.2</td>\n",
       "      <td>setosa</td>\n",
       "    </tr>\n",
       "    <tr>\n",
       "      <th>1</th>\n",
       "      <td>4.9</td>\n",
       "      <td>3.0</td>\n",
       "      <td>1.4</td>\n",
       "      <td>0.2</td>\n",
       "      <td>setosa</td>\n",
       "    </tr>\n",
       "    <tr>\n",
       "      <th>2</th>\n",
       "      <td>4.7</td>\n",
       "      <td>3.2</td>\n",
       "      <td>1.3</td>\n",
       "      <td>0.2</td>\n",
       "      <td>setosa</td>\n",
       "    </tr>\n",
       "    <tr>\n",
       "      <th>3</th>\n",
       "      <td>4.6</td>\n",
       "      <td>3.1</td>\n",
       "      <td>1.5</td>\n",
       "      <td>0.2</td>\n",
       "      <td>setosa</td>\n",
       "    </tr>\n",
       "    <tr>\n",
       "      <th>4</th>\n",
       "      <td>5.0</td>\n",
       "      <td>3.6</td>\n",
       "      <td>1.4</td>\n",
       "      <td>0.2</td>\n",
       "      <td>setosa</td>\n",
       "    </tr>\n",
       "  </tbody>\n",
       "</table>\n",
       "</div>"
      ],
      "text/plain": [
       "   sepal_length  sepal_width  petal_length  petal_width species\n",
       "0           5.1          3.5           1.4          0.2  setosa\n",
       "1           4.9          3.0           1.4          0.2  setosa\n",
       "2           4.7          3.2           1.3          0.2  setosa\n",
       "3           4.6          3.1           1.5          0.2  setosa\n",
       "4           5.0          3.6           1.4          0.2  setosa"
      ]
     },
     "execution_count": 119,
     "metadata": {},
     "output_type": "execute_result"
    }
   ],
   "source": [
    "iris.head()"
   ]
  },
  {
   "cell_type": "code",
   "execution_count": 120,
   "id": "5fbc032b-6a5e-471b-942a-b8b0ac4ddd9c",
   "metadata": {},
   "outputs": [
    {
     "data": {
      "text/plain": [
       "species\n",
       "setosa        50\n",
       "versicolor    50\n",
       "virginica     50\n",
       "Name: count, dtype: int64"
      ]
     },
     "execution_count": 120,
     "metadata": {},
     "output_type": "execute_result"
    }
   ],
   "source": [
    "iris[\"species\"].value_counts()"
   ]
  },
  {
   "cell_type": "code",
   "execution_count": 122,
   "id": "4d92cfe5-c7aa-470f-99ae-b9bad30f5826",
   "metadata": {},
   "outputs": [
    {
     "data": {
      "text/plain": [
       "<Axes: xlabel='sepal_length', ylabel='petal_length'>"
      ]
     },
     "execution_count": 122,
     "metadata": {},
     "output_type": "execute_result"
    },
    {
     "data": {
      "image/png": "[encoded data removed]",
      "text/plain": [
       "<Figure size 640x480 with 1 Axes>"
      ]
     },
     "metadata": {},
     "output_type": "display_data"
    }
   ],
   "source": [
    "sns.scatterplot(data=iris,x=\"sepal_length\",y=\"petal_length\",hue=\"species\")"
   ]
  },
  {
   "cell_type": "code",
   "execution_count": 123,
   "id": "3ecb8984-0d0f-4b49-87d2-76de141b5162",
   "metadata": {},
   "outputs": [
    {
     "data": {
      "text/plain": [
       "<Axes: xlabel='sepal_length', ylabel='petal_width'>"
      ]
     },
     "execution_count": 123,
     "metadata": {},
     "output_type": "execute_result"
    },
    {
     "data": {
      "image/png": "[encoded data removed]",
      "text/plain": [
       "<Figure size 640x480 with 1 Axes>"
      ]
     },
     "metadata": {},
     "output_type": "display_data"
    }
   ],
   "source": [
    "sns.scatterplot(data=iris,x=\"sepal_length\",y=\"petal_width\",hue=\"species\")"
   ]
  },
  {
   "cell_type": "code",
   "execution_count": 124,
   "id": "04ffc483-4959-4581-83db-2137a95c7789",
   "metadata": {},
   "outputs": [],
   "source": [
    "titanic=sns.load_dataset(\"titanic\")"
   ]
  },
  {
   "cell_type": "code",
   "execution_count": 125,
   "id": "c33129c9-81e6-4ae8-84c4-add85db43ffb",
   "metadata": {},
   "outputs": [
    {
     "data": {
      "text/html": [
       "<div>\n",
       "<style scoped>\n",
       "    .dataframe tbody tr th:only-of-type {\n",
       "        vertical-align: middle;\n",
       "    }\n",
       "\n",
       "    .dataframe tbody tr th {\n",
       "        vertical-align: top;\n",
       "    }\n",
       "\n",
       "    .dataframe thead th {\n",
       "        text-align: right;\n",
       "    }\n",
       "</style>\n",
       "<table border=\"1\" class=\"dataframe\">\n",
       "  <thead>\n",
       "    <tr style=\"text-align: right;\">\n",
       "      <th></th>\n",
       "      <th>survived</th>\n",
       "      <th>pclass</th>\n",
       "      <th>sex</th>\n",
       "      <th>age</th>\n",
       "      <th>sibsp</th>\n",
       "      <th>parch</th>\n",
       "      <th>fare</th>\n",
       "      <th>embarked</th>\n",
       "      <th>class</th>\n",
       "      <th>who</th>\n",
       "      <th>adult_male</th>\n",
       "      <th>deck</th>\n",
       "      <th>embark_town</th>\n",
       "      <th>alive</th>\n",
       "      <th>alone</th>\n",
       "    </tr>\n",
       "  </thead>\n",
       "  <tbody>\n",
       "    <tr>\n",
       "      <th>0</th>\n",
       "      <td>0</td>\n",
       "      <td>3</td>\n",
       "      <td>male</td>\n",
       "      <td>22.0</td>\n",
       "      <td>1</td>\n",
       "      <td>0</td>\n",
       "      <td>7.2500</td>\n",
       "      <td>S</td>\n",
       "      <td>Third</td>\n",
       "      <td>man</td>\n",
       "      <td>True</td>\n",
       "      <td>NaN</td>\n",
       "      <td>Southampton</td>\n",
       "      <td>no</td>\n",
       "      <td>False</td>\n",
       "    </tr>\n",
       "    <tr>\n",
       "      <th>1</th>\n",
       "      <td>1</td>\n",
       "      <td>1</td>\n",
       "      <td>female</td>\n",
       "      <td>38.0</td>\n",
       "      <td>1</td>\n",
       "      <td>0</td>\n",
       "      <td>71.2833</td>\n",
       "      <td>C</td>\n",
       "      <td>First</td>\n",
       "      <td>woman</td>\n",
       "      <td>False</td>\n",
       "      <td>C</td>\n",
       "      <td>Cherbourg</td>\n",
       "      <td>yes</td>\n",
       "      <td>False</td>\n",
       "    </tr>\n",
       "    <tr>\n",
       "      <th>2</th>\n",
       "      <td>1</td>\n",
       "      <td>3</td>\n",
       "      <td>female</td>\n",
       "      <td>26.0</td>\n",
       "      <td>0</td>\n",
       "      <td>0</td>\n",
       "      <td>7.9250</td>\n",
       "      <td>S</td>\n",
       "      <td>Third</td>\n",
       "      <td>woman</td>\n",
       "      <td>False</td>\n",
       "      <td>NaN</td>\n",
       "      <td>Southampton</td>\n",
       "      <td>yes</td>\n",
       "      <td>True</td>\n",
       "    </tr>\n",
       "    <tr>\n",
       "      <th>3</th>\n",
       "      <td>1</td>\n",
       "      <td>1</td>\n",
       "      <td>female</td>\n",
       "      <td>35.0</td>\n",
       "      <td>1</td>\n",
       "      <td>0</td>\n",
       "      <td>53.1000</td>\n",
       "      <td>S</td>\n",
       "      <td>First</td>\n",
       "      <td>woman</td>\n",
       "      <td>False</td>\n",
       "      <td>C</td>\n",
       "      <td>Southampton</td>\n",
       "      <td>yes</td>\n",
       "      <td>False</td>\n",
       "    </tr>\n",
       "    <tr>\n",
       "      <th>4</th>\n",
       "      <td>0</td>\n",
       "      <td>3</td>\n",
       "      <td>male</td>\n",
       "      <td>35.0</td>\n",
       "      <td>0</td>\n",
       "      <td>0</td>\n",
       "      <td>8.0500</td>\n",
       "      <td>S</td>\n",
       "      <td>Third</td>\n",
       "      <td>man</td>\n",
       "      <td>True</td>\n",
       "      <td>NaN</td>\n",
       "      <td>Southampton</td>\n",
       "      <td>no</td>\n",
       "      <td>True</td>\n",
       "    </tr>\n",
       "  </tbody>\n",
       "</table>\n",
       "</div>"
      ],
      "text/plain": [
       "   survived  pclass     sex   age  sibsp  parch     fare embarked  class  \\\n",
       "0         0       3    male  22.0      1      0   7.2500        S  Third   \n",
       "1         1       1  female  38.0      1      0  71.2833        C  First   \n",
       "2         1       3  female  26.0      0      0   7.9250        S  Third   \n",
       "3         1       1  female  35.0      1      0  53.1000        S  First   \n",
       "4         0       3    male  35.0      0      0   8.0500        S  Third   \n",
       "\n",
       "     who  adult_male deck  embark_town alive  alone  \n",
       "0    man        True  NaN  Southampton    no  False  \n",
       "1  woman       False    C    Cherbourg   yes  False  \n",
       "2  woman       False  NaN  Southampton   yes   True  \n",
       "3  woman       False    C  Southampton   yes  False  \n",
       "4    man        True  NaN  Southampton    no   True  "
      ]
     },
     "execution_count": 125,
     "metadata": {},
     "output_type": "execute_result"
    }
   ],
   "source": [
    "titanic.head()"
   ]
  },
  {
   "cell_type": "code",
   "execution_count": 126,
   "id": "deb721ed-5684-4fb1-9a15-363e6ff1b0be",
   "metadata": {},
   "outputs": [
    {
     "name": "stderr",
     "output_type": "stream",
     "text": [
      "C:\\ProgramData\\anaconda3\\Lib\\site-packages\\seaborn\\categorical.py:641: FutureWarning: The default of observed=False is deprecated and will be changed to True in a future version of pandas. Pass observed=False to retain current behavior or observed=True to adopt the future default and silence this warning.\n",
      "  grouped_vals = vals.groupby(grouper)\n"
     ]
    },
    {
     "data": {
      "text/plain": [
       "<Axes: xlabel='class', ylabel='count'>"
      ]
     },
     "execution_count": 126,
     "metadata": {},
     "output_type": "execute_result"
    },
    {
     "data": {
      "image/png": "[encoded data removed]",
      "text/plain": [
       "<Figure size 640x480 with 1 Axes>"
      ]
     },
     "metadata": {},
     "output_type": "display_data"
    }
   ],
   "source": [
    "sns.countplot(data=titanic,x=\"class\")"
   ]
  },
  {
   "cell_type": "code",
   "execution_count": 127,
   "id": "3bcdb5e9-5c7f-451d-8770-ac4e27efa8ed",
   "metadata": {},
   "outputs": [
    {
     "data": {
      "text/plain": [
       "<Axes: xlabel='survived', ylabel='count'>"
      ]
     },
     "execution_count": 127,
     "metadata": {},
     "output_type": "execute_result"
    },
    {
     "data": {
      "image/png": "[encoded data removed]",
      "text/plain": [
       "<Figure size 640x480 with 1 Axes>"
      ]
     },
     "metadata": {},
     "output_type": "display_data"
    }
   ],
   "source": [
    "sns.countplot(data=titanic,x=\"survived\")"
   ]
  },
  {
   "cell_type": "markdown",
   "id": "06d85970-381d-4cac-9292-0d0fc48435dd",
   "metadata": {},
   "source": [
    "hue in Seaborn helps to classify or categorize the data based on the unique values of the specified field."
   ]
  },
  {
   "cell_type": "code",
   "execution_count": 128,
   "id": "e6ce22f9-7428-407f-b6b9-2470efad0fa4",
   "metadata": {},
   "outputs": [
    {
     "data": {
      "text/plain": [
       "<Axes: xlabel='sex', ylabel='survived'>"
      ]
     },
     "execution_count": 128,
     "metadata": {},
     "output_type": "execute_result"
    },
    {
     "data": {
      "image/png": "[encoded data removed]",
      "text/plain": [
       "<Figure size 640x480 with 1 Axes>"
      ]
     },
     "metadata": {},
     "output_type": "display_data"
    }
   ],
   "source": [
    "sns.barplot(x=\"sex\",data=titanic,y=\"survived\",hue=\"class\")"
   ]
  },
  {
   "cell_type": "code",
   "execution_count": 130,
   "id": "2edfdfb1-b753-4d97-8e8f-c3d31274046d",
   "metadata": {},
   "outputs": [],
   "source": [
    "from sklearn.datasets import fetch_california_housing"
   ]
  },
  {
   "cell_type": "code",
   "execution_count": 131,
   "id": "987dd82e-627d-4c10-8732-2bf147b6cc7c",
   "metadata": {},
   "outputs": [],
   "source": [
    "housing=fetch_california_housing()"
   ]
  },
  {
   "cell_type": "code",
   "execution_count": 135,
   "id": "2d8a5aed-2e8e-4f5c-9728-5695a8902e53",
   "metadata": {},
   "outputs": [],
   "source": [
    "house_df=pd.DataFrame(housing.data,columns=housing.feature_names) # to convert numpy array into pd df"
   ]
  },
  {
   "cell_type": "code",
   "execution_count": 136,
   "id": "520c0e30-11fc-4f6c-9a10-b93c62a8c2ac",
   "metadata": {},
   "outputs": [
    {
     "data": {
      "text/html": [
       "<div>\n",
       "<style scoped>\n",
       "    .dataframe tbody tr th:only-of-type {\n",
       "        vertical-align: middle;\n",
       "    }\n",
       "\n",
       "    .dataframe tbody tr th {\n",
       "        vertical-align: top;\n",
       "    }\n",
       "\n",
       "    .dataframe thead th {\n",
       "        text-align: right;\n",
       "    }\n",
       "</style>\n",
       "<table border=\"1\" class=\"dataframe\">\n",
       "  <thead>\n",
       "    <tr style=\"text-align: right;\">\n",
       "      <th></th>\n",
       "      <th>MedInc</th>\n",
       "      <th>HouseAge</th>\n",
       "      <th>AveRooms</th>\n",
       "      <th>AveBedrms</th>\n",
       "      <th>Population</th>\n",
       "      <th>AveOccup</th>\n",
       "      <th>Latitude</th>\n",
       "      <th>Longitude</th>\n",
       "    </tr>\n",
       "  </thead>\n",
       "  <tbody>\n",
       "    <tr>\n",
       "      <th>0</th>\n",
       "      <td>8.3252</td>\n",
       "      <td>41.0</td>\n",
       "      <td>6.984127</td>\n",
       "      <td>1.023810</td>\n",
       "      <td>322.0</td>\n",
       "      <td>2.555556</td>\n",
       "      <td>37.88</td>\n",
       "      <td>-122.23</td>\n",
       "    </tr>\n",
       "    <tr>\n",
       "      <th>1</th>\n",
       "      <td>8.3014</td>\n",
       "      <td>21.0</td>\n",
       "      <td>6.238137</td>\n",
       "      <td>0.971880</td>\n",
       "      <td>2401.0</td>\n",
       "      <td>2.109842</td>\n",
       "      <td>37.86</td>\n",
       "      <td>-122.22</td>\n",
       "    </tr>\n",
       "    <tr>\n",
       "      <th>2</th>\n",
       "      <td>7.2574</td>\n",
       "      <td>52.0</td>\n",
       "      <td>8.288136</td>\n",
       "      <td>1.073446</td>\n",
       "      <td>496.0</td>\n",
       "      <td>2.802260</td>\n",
       "      <td>37.85</td>\n",
       "      <td>-122.24</td>\n",
       "    </tr>\n",
       "    <tr>\n",
       "      <th>3</th>\n",
       "      <td>5.6431</td>\n",
       "      <td>52.0</td>\n",
       "      <td>5.817352</td>\n",
       "      <td>1.073059</td>\n",
       "      <td>558.0</td>\n",
       "      <td>2.547945</td>\n",
       "      <td>37.85</td>\n",
       "      <td>-122.25</td>\n",
       "    </tr>\n",
       "    <tr>\n",
       "      <th>4</th>\n",
       "      <td>3.8462</td>\n",
       "      <td>52.0</td>\n",
       "      <td>6.281853</td>\n",
       "      <td>1.081081</td>\n",
       "      <td>565.0</td>\n",
       "      <td>2.181467</td>\n",
       "      <td>37.85</td>\n",
       "      <td>-122.25</td>\n",
       "    </tr>\n",
       "  </tbody>\n",
       "</table>\n",
       "</div>"
      ],
      "text/plain": [
       "   MedInc  HouseAge  AveRooms  AveBedrms  Population  AveOccup  Latitude  \\\n",
       "0  8.3252      41.0  6.984127   1.023810       322.0  2.555556     37.88   \n",
       "1  8.3014      21.0  6.238137   0.971880      2401.0  2.109842     37.86   \n",
       "2  7.2574      52.0  8.288136   1.073446       496.0  2.802260     37.85   \n",
       "3  5.6431      52.0  5.817352   1.073059       558.0  2.547945     37.85   \n",
       "4  3.8462      52.0  6.281853   1.081081       565.0  2.181467     37.85   \n",
       "\n",
       "   Longitude  \n",
       "0    -122.23  \n",
       "1    -122.22  \n",
       "2    -122.24  \n",
       "3    -122.25  \n",
       "4    -122.25  "
      ]
     },
     "execution_count": 136,
     "metadata": {},
     "output_type": "execute_result"
    }
   ],
   "source": [
    "house_df.head()"
   ]
  },
  {
   "cell_type": "code",
   "execution_count": 137,
   "id": "8294b6cb-1d3e-4775-ad05-bc3d2d5a301c",
   "metadata": {},
   "outputs": [
    {
     "name": "stderr",
     "output_type": "stream",
     "text": [
      "C:\\Users\\thara\\AppData\\Local\\Temp\\ipykernel_14120\\2170823436.py:1: UserWarning: \n",
      "\n",
      "`distplot` is a deprecated function and will be removed in seaborn v0.14.0.\n",
      "\n",
      "Please adapt your code to use either `displot` (a figure-level function with\n",
      "similar flexibility) or `histplot` (an axes-level function for histograms).\n",
      "\n",
      "For a guide to updating your code to use the new functions, please see\n",
      "https://gist.github.com/mwaskom/de44147ed2974457ad6372750bbe5751\n",
      "\n",
      "  sns.distplot(house_df[\"HouseAge\"])\n",
      "C:\\ProgramData\\anaconda3\\Lib\\site-packages\\seaborn\\_oldcore.py:1119: FutureWarning: use_inf_as_na option is deprecated and will be removed in a future version. Convert inf values to NaN before operating instead.\n",
      "  with pd.option_context('mode.use_inf_as_na', True):\n"
     ]
    },
    {
     "data": {
      "text/plain": [
       "<Axes: xlabel='HouseAge', ylabel='Density'>"
      ]
     },
     "execution_count": 137,
     "metadata": {},
     "output_type": "execute_result"
    },
    {
     "data": {
      "image/png": "[encoded data removed]",
      "text/plain": [
       "<Figure size 640x480 with 1 Axes>"
      ]
     },
     "metadata": {},
     "output_type": "display_data"
    }
   ],
   "source": [
    "sns.distplot(house_df[\"HouseAge\"])"
   ]
  },
  {
   "cell_type": "code",
   "execution_count": 138,
   "id": "d1087c41-25c8-4882-8a1f-4eb72603c791",
   "metadata": {},
   "outputs": [],
   "source": [
    "correlation=house_df.corr()"
   ]
  },
  {
   "cell_type": "code",
   "execution_count": 151,
   "id": "cc98a40e-0a08-4a92-8c7a-c92cc9fd513d",
   "metadata": {},
   "outputs": [
    {
     "data": {
      "text/plain": [
       "<Axes: >"
      ]
     },
     "execution_count": 151,
     "metadata": {},
     "output_type": "execute_result"
    },
    {
     "data": {
      "image/png": "[encoded data removed]",
      "text/plain": [
       "<Figure size 1000x1000 with 2 Axes>"
      ]
     },
     "metadata": {},
     "output_type": "display_data"
    }
   ],
   "source": [
    "plt.figure(figsize=(10,10))\n",
    "sns.heatmap(data=correlation,cbar=True,square=True,fmt=\".1f\",annot=True,annot_kws={\"size\":10},cmap=\"Blues\")"
   ]
  },
  {
   "cell_type": "code",
   "execution_count": null,
   "id": "9768e331-b24f-403e-b124-7e8d95ca2356",
   "metadata": {},
   "outputs": [],
   "source": []
  }
 ],
 "metadata": {
  "kernelspec": {
   "display_name": "Python 3 (ipykernel)",
   "language": "python",
   "name": "python3"
  },
  "language_info": {
   "codemirror_mode": {
    "name": "ipython",
    "version": 3
   },
   "file_extension": ".py",
   "mimetype": "text/x-python",
   "name": "python",
   "nbconvert_exporter": "python",
   "pygments_lexer": "ipython3",
   "version": "3.11.7"
  }
 },
 "nbformat": 4,
 "nbformat_minor": 5
}
